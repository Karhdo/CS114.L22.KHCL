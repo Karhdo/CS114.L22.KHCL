{
  "nbformat": 4,
  "nbformat_minor": 0,
  "metadata": {
    "colab": {
      "name": "DoAnCK.ipynb",
      "provenance": [],
      "collapsed_sections": [],
      "include_colab_link": true
    },
    "kernelspec": {
      "name": "python3",
      "display_name": "Python 3"
    },
    "language_info": {
      "name": "python"
    }
  },
  "cells": [
    {
      "cell_type": "markdown",
      "metadata": {
        "id": "view-in-github",
        "colab_type": "text"
      },
      "source": [
        "<a href=\"https://colab.research.google.com/github/trong-khanh-1109/CS114.L22.KHCL/blob/main/DoAnCK.ipynb\" target=\"_parent\"><img src=\"https://colab.research.google.com/assets/colab-badge.svg\" alt=\"Open In Colab\"/></a>"
      ]
    },
    {
      "cell_type": "markdown",
      "metadata": {
        "id": "qb5tA7wlBSE_"
      },
      "source": [
        "##**ĐỀ TÀI: PHÂN TÍCH VỀ LUẬN TIÊU CỰC TRÊN MẠNG XÃ HỘI BẰNG TIẾNG VIỆT**\n"
      ]
    },
    {
      "cell_type": "markdown",
      "metadata": {
        "id": "xviu1cQYBTvo"
      },
      "source": [
        "##**LỚP: CS114.L21.KHCL and CS114.L22.KHCL**"
      ]
    },
    {
      "cell_type": "markdown",
      "metadata": {
        "id": "oti7eL_JBjrh"
      },
      "source": [
        "#Thành viên:\n",
        "\n",
        "1.   Đỗ Trọng Khánh - 19521676\n",
        "2.   Võ Phạm Duy Đức - 19521383\n",
        "3.   Trịnh Công Danh - 19521326\n",
        "\n",
        "\n",
        "\n"
      ]
    },
    {
      "cell_type": "markdown",
      "metadata": {
        "id": "JuCuIsEJCHFY"
      },
      "source": [
        "# 1.Mô tả bài toán:\n",
        "  - Phân tích những bình luận tiêu cực trên mạng xã hội(FB, Youtube, Game,...)\n",
        "  - **Input**: 1 câu bình luận trên mạng xã hội,Game,...\n",
        "  - **Output**: Bình luận đó có phải là bình luận **tiêu cực** hay không.\n",
        "  - **Chú thích:** Bình luận tiêu cực là những bình luận thô tục, chửi nhau trên mạng xã hội, mang tính xúc phạm người khác.\n",
        "  \n"
      ]
    },
    {
      "cell_type": "markdown",
      "metadata": {
        "id": "tzpS27ljD_aC"
      },
      "source": [
        "##2.Mô tả về bộ dữ liệu:\n",
        "- Thu thập dữ liệu: \n",
        "  + Lấy tất cả các bình luận trong bài viết gây xôn xao cộng đồng mạng(Trên facebook, youtube,...).\n",
        "  + Khoảng 3000 comments bao gồm bình luận thô tục và bình thường.\n",
        "  + Thao tác tiền xử lý:\n",
        "    + Cleaning data: là bước làm sạch data trước khi bắt đầu xử lý trên tập dữ liệu.\n",
        "    + Bước quan trọng khi xử lí bằng ngôn ngữ Tiếng Việt là tách từ.\n",
        "    + Loại bỏ cái icon không có ý nghĩa cho việc phân tích.\n",
        "    + Chuyển tất cả chữ hoa thành chữ thường cho dễ xử lí.\n",
        "    + Xóa bỏ những từ không quan trọng và không làm ảnh hưởng tới nghĩa của câu.\n",
        "- Phân chia tập train:\n",
        "  + Khoảng 75% sẽ được dùng để làm training data, còn lại dũng để test data, dev data được thu thập ở ngoài sau khi training xong."
      ]
    },
    {
      "cell_type": "markdown",
      "metadata": {
        "id": "6g4pwRuTFFVI"
      },
      "source": [
        "##3.Ứng dụng:\n",
        "- Dùng để lọc những bình luận thô tục, mang tính xúc phạm, không văn minh trên cộng đồng mạng xã hội."
      ]
    }
  ]
}

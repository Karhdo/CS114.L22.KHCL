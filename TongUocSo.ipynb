{
  "nbformat": 4,
  "nbformat_minor": 0,
  "metadata": {
    "colab": {
      "name": "Untitled0.ipynb",
      "provenance": [],
      "authorship_tag": "ABX9TyNh1q8n9lQH8aYAGWn9khEL",
      "include_colab_link": true
    },
    "kernelspec": {
      "name": "python3",
      "display_name": "Python 3"
    },
    "language_info": {
      "name": "python"
    }
  },
  "cells": [
    {
      "cell_type": "markdown",
      "metadata": {
        "id": "view-in-github",
        "colab_type": "text"
      },
      "source": [
        "<a href=\"https://colab.research.google.com/github/trong-khanh-1109/CS114.L22.KHCL/blob/main/TongUocSo.ipynb\" target=\"_parent\"><img src=\"https://colab.research.google.com/assets/colab-badge.svg\" alt=\"Open In Colab\"/></a>"
      ]
    },
    {
      "cell_type": "markdown",
      "metadata": {
        "id": "YWfNJ4Kr4KiF"
      },
      "source": [
        "#Tên bài: Tổng ước số\n"
      ]
    },
    {
      "cell_type": "markdown",
      "metadata": {
        "id": "GcKu3ICx4Vpq"
      },
      "source": [
        "Viết chương trình tính tổng các ước số thực sự của một số nguyên dương.\n"
      ]
    },
    {
      "cell_type": "markdown",
      "metadata": {
        "id": "dsUs3W_V5Owd"
      },
      "source": [
        "### -*Input*:\n"
      ]
    },
    {
      "cell_type": "markdown",
      "metadata": {
        "id": "wU0UsTna5lbV"
      },
      "source": [
        "Số nguyên dương ***n*** giá trị không quá 1 tỷ."
      ]
    },
    {
      "cell_type": "markdown",
      "metadata": {
        "id": "MZhgxDoX57_j"
      },
      "source": [
        "###-*Output*:"
      ]
    },
    {
      "cell_type": "markdown",
      "metadata": {
        "id": "3GGY-I5A7xJy"
      },
      "source": [
        "Tổng các ước số của ***n*** (không kể ***n***)"
      ]
    },
    {
      "cell_type": "markdown",
      "metadata": {
        "id": "f_ChRwU57-pi"
      },
      "source": [
        "Ví dụ:\n",
        "\n",
        "\n",
        "\n"
      ]
    },
    {
      "cell_type": "markdown",
      "metadata": {
        "id": "2yiBB8p78ITM"
      },
      "source": [
        "![Screenshot 2021-04-14 221220.png](data:image/png;base64,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)"
      ]
    },
    {
      "cell_type": "markdown",
      "metadata": {
        "id": "FXyqgITu7vFk"
      },
      "source": [
        "##- Ý tưởng: "
      ]
    },
    {
      "cell_type": "markdown",
      "metadata": {
        "id": "lSEQrpUY8Wva"
      },
      "source": [
        "+ Nhập vào 1 số nguyên dương n.\n",
        " "
      ]
    },
    {
      "cell_type": "markdown",
      "metadata": {
        "id": "Iz-fi7IU9jDL"
      },
      "source": [
        "+ Khởi tạo biến tổng S=0."
      ]
    },
    {
      "cell_type": "markdown",
      "metadata": {
        "id": "cKeIato58nKF"
      },
      "source": [
        "+ Sử dụng vòng lặp để duyệt các số nguyên từ 1 đến n-1 và kiểm tra xem mỗi số đó xem số nào mà n chia hết thì sẽ cộng thêm số đó vào biến S."
      ]
    },
    {
      "cell_type": "markdown",
      "metadata": {
        "id": "YKTFRWVw9u2y"
      },
      "source": [
        "##- Code:"
      ]
    },
    {
      "cell_type": "code",
      "metadata": {
        "id": "wFsgAH3D3r_D"
      },
      "source": [
        "#Code by Trịnh Công Danh\n",
        "n=int(input())\n",
        "s=0\n",
        "if (n>0):\n",
        "    for i in range(1,n-1):\n",
        "        if(n%i==0):\n",
        "            s=s+i\n",
        "print(s)"
      ],
      "execution_count": null,
      "outputs": []
    }
  ]
}
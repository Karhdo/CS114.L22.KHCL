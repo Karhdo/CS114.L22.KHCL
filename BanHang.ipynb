{
  "nbformat": 4,
  "nbformat_minor": 0,
  "metadata": {
    "colab": {
      "name": "BanHang.ipynb",
      "provenance": [],
      "collapsed_sections": [],
      "authorship_tag": "ABX9TyOHXHk2ZucOWAlt2NKreTAh",
      "include_colab_link": true
    },
    "kernelspec": {
      "name": "python3",
      "display_name": "Python 3"
    },
    "language_info": {
      "name": "python"
    }
  },
  "cells": [
    {
      "cell_type": "markdown",
      "metadata": {
        "id": "view-in-github",
        "colab_type": "text"
      },
      "source": [
        "<a href=\"https://colab.research.google.com/github/trong-khanh-1109/CS114.L22.KHCL/blob/main/BanHang.ipynb\" target=\"_parent\"><img src=\"https://colab.research.google.com/assets/colab-badge.svg\" alt=\"Open In Colab\"/></a>"
      ]
    },
    {
      "cell_type": "markdown",
      "metadata": {
        "id": "1IaWfdPpPLbm"
      },
      "source": [
        "#- Tên bài: Bán hàng\n",
        "#- Đề bài:\n",
        "+ Nam đang là quản lí một cửa hàng nhỏ trong thị trấn. Cửa hàng của Nam có n hàng hóa, mỗi hàng hóa thứ i có giá a i đồng,\n",
        "\n",
        "+ Mỗi ngày, có rất nhiều khách hàng ghé cửa hàng của Nam và liên tục hỏi giá của từng sản phẩm. Do có quá nhiều hàng hóa nên Nam không thể nào nhớ hết giá của chúng. Vì thế, Nam đã quyết định bán đồng giá tất cả các hàng hóa trong cửa hàng của mình.\n",
        "\n",
        "+ Tuy nhiên, để không lỗ vốn, Nam muốn sau khi tất cả n hàng hóa trong cửa hàng được bán hết thì thu được tổng số tiền <strong>bằng (hoặc lớn hơn)</strong> so với tổng giá hàng hóa bán với giá gốc.\n",
        "\n",
        "+ Mặt khác, Nam không muốn mất khách nếu giá bán quá lớn. Vì vậy, Nam phải bán \n",
        "n hàng hóa với giá <strong>tối thiểu</strong> sao cho tổng số tiền thu được sau khi bán hết hàng hóa có trong cửa hàng phải <strong>bằng (hoặc lớn hơn tối thiểu)</strong> so với tổng giá hàng hóa bán với giá gốc.\n",
        "\n",
        "+ Với mỗi testcase các bạn hãy giúp Nam tìm ra giá bán phù hợp.\n",
        "\n",
        "#- Input: \n",
        "+ Dòng đầu tiên là một số nguyên q (1 ≤ q ≤ 100) — số lượng testcase. Theo sau mỗi q dòng là:\n",
        "+ Dòng đầu tiên của testcase là một số nguyên n (1 ≤ q ≤ 100) — số lượng hàng hóa. Dòng thứ hai gồm n số nguyên $a_1,a_2,...,a_n$ $1 ≤ a_i ≤ 10^7$ —  ai giá gốc của hàng hóa thứ i.\n",
        "\n",
        "#- Output:\n",
        "+ Với mỗi testcase in ra giá bán đồng giá tối thiểu của n hàng hóa sao cho tổng số tiền thu được sau khi bán hết hàng hóa có trong cửa hàng phải <strong>bằng (hoặc lớn hơn tối thiểu)</strong> so với tổng giá hàng hóa bán với giá gốc.\n",
        "\n",
        "#- Ví dụ:\n",
        "\n",
        "\n",
        "3\n",
        "\n",
        "\n",
        "5\n",
        "\n",
        "\n",
        "1 2 3 4 5 ----> 3\n",
        "\n",
        "\n",
        "3\n",
        "\n",
        "\n",
        "1 2 2     ----> 2\n",
        "\n",
        "\n",
        "4\n",
        "\n",
        "\n",
        "1 1 1 1   ----> 1\n",
        "\n",
        "#- Ý tưởng:\n",
        "+ Tính tổng giá hàng hóa bán với giá gốc(S) , nếu S chia hết cho số lượng hàng hóa (n) thì giá bán đồng giá tối thiểu là phần nguyên của phép chia S cho n, còn nếu không chia hết thì giá bán đồng giá tối thiểu là phần nguyên của phép chia S cho n cộng thêm cho 1\n",
        "\n",
        "#- Code:\n"
      ]
    },
    {
      "cell_type": "code",
      "metadata": {
        "id": "gzHqMwsIUxJL"
      },
      "source": [
        "#This code is contributed by Vo Pham Duy Duc\n",
        "q = int(input())\n",
        "i = 1\n",
        "a0 = []\n",
        "while(i <= q):\n",
        "    n = int(input())\n",
        "    a1 = []\n",
        "    a2 = []\n",
        "    a1 = list(map(int, input().strip().split()))[:n]\n",
        "    S = sum(a1)\n",
        "    if S % n == 0:\n",
        "        a0.append(S // n)\n",
        "    else:\n",
        "        a0.append((S // n) + 1)\n",
        "    i += 1\n",
        "for i in range(len(a0)):\n",
        "    print(a0[i])"
      ],
      "execution_count": null,
      "outputs": []
    }
  ]
}
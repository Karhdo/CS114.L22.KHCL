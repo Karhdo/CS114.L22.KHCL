{
  "nbformat": 4,
  "nbformat_minor": 0,
  "metadata": {
    "colab": {
      "name": "Preprocess_data_to_test.ipynb",
      "provenance": [],
      "collapsed_sections": [],
      "authorship_tag": "ABX9TyMdG1QnXjscQSM1xGBSbXel",
      "include_colab_link": true
    },
    "kernelspec": {
      "name": "python3",
      "display_name": "Python 3"
    },
    "language_info": {
      "name": "python"
    }
  },
  "cells": [
    {
      "cell_type": "markdown",
      "metadata": {
        "id": "view-in-github",
        "colab_type": "text"
      },
      "source": [
        "<a href=\"https://colab.research.google.com/github/trong-khanh-1109/CS114.L22.KHCL/blob/main/Preprocess_data_to_test.ipynb\" target=\"_parent\"><img src=\"https://colab.research.google.com/assets/colab-badge.svg\" alt=\"Open In Colab\"/></a>"
      ]
    },
    {
      "cell_type": "code",
      "metadata": {
        "colab": {
          "base_uri": "https://localhost:8080/"
        },
        "id": "SH7TzXkNIdGE",
        "outputId": "c469e293-7b11-490e-800a-6a1faa93095f"
      },
      "source": [
        "from google.colab import drive \n",
        "drive.mount('/content/drive')"
      ],
      "execution_count": null,
      "outputs": [
        {
          "output_type": "stream",
          "text": [
            "Drive already mounted at /content/drive; to attempt to forcibly remount, call drive.mount(\"/content/drive\", force_remount=True).\n"
          ],
          "name": "stdout"
        }
      ]
    },
    {
      "cell_type": "code",
      "metadata": {
        "id": "kqptsWPOIe4i"
      },
      "source": [
        "folder = '/content/drive/MyDrive/Data_Final_Project/Test'"
      ],
      "execution_count": null,
      "outputs": []
    },
    {
      "cell_type": "code",
      "metadata": {
        "id": "zWWArkg5Ijvu"
      },
      "source": [
        "import os\n",
        "import pandas as pd\n",
        "import matplotlib.pyplot as plt\n",
        "from PIL import Image\n",
        "import cv2\n",
        "from imutils import contours\n",
        "import numpy as np"
      ],
      "execution_count": null,
      "outputs": []
    },
    {
      "cell_type": "code",
      "metadata": {
        "colab": {
          "base_uri": "https://localhost:8080/"
        },
        "id": "45lGtqhcIlPw",
        "outputId": "6feb0fb2-23b0-457b-e8b8-cb9c375c3c4b"
      },
      "source": [
        "print(sorted(os.listdir(folder)))"
      ],
      "execution_count": null,
      "outputs": [
        {
          "output_type": "stream",
          "text": [
            "['a', 'à', 'á', 'â', 'ầ', 'ấ', 'ẫ', 'ẩ', 'ã', 'ă', 'ằ', 'ắ', 'ẵ', 'ẳ', 'ả', 'ạ', 'ậ', 'ặ', 'b', 'c', 'd', 'e', 'è', 'é', 'ê', 'ề', 'ế', 'ễ', 'ể', 'ẽ', 'ẻ', 'ẹ', 'ệ', 'g', 'h', 'i', 'ì', 'í', 'ĩ', 'ỉ', 'ị', 'k', 'l', 'm', 'n', 'o', 'ò', 'ó', 'ô', 'ồ', 'ố', 'ỗ', 'ổ', 'õ', 'ỏ', 'ơ', 'ờ', 'ớ', 'ỡ', 'ở', 'ợ', 'ọ', 'ộ', 'p', 'q', 'r', 's', 't', 'u', 'ù', 'ú', 'ũ', 'ủ', 'ư', 'ừ', 'ứ', 'ữ', 'ử', 'ự', 'ụ', 'v', 'x', 'y', 'ỳ', 'ý', 'ỹ', 'ỷ', 'ỵ', 'đ']\n"
          ],
          "name": "stdout"
        }
      ]
    },
    {
      "cell_type": "code",
      "metadata": {
        "colab": {
          "base_uri": "https://localhost:8080/"
        },
        "id": "XZC8mzx_ImZi",
        "outputId": "2f80fcdc-59ef-4c9e-b9ca-a424a38cc87e"
      },
      "source": [
        "list_char = sorted(os.listdir(folder))\n",
        "len(list_char)"
      ],
      "execution_count": null,
      "outputs": [
        {
          "output_type": "execute_result",
          "data": {
            "text/plain": [
              "89"
            ]
          },
          "metadata": {
            "tags": []
          },
          "execution_count": 5
        }
      ]
    },
    {
      "cell_type": "code",
      "metadata": {
        "id": "0AZKGORJIyDL"
      },
      "source": [
        "FJoin = os.path.join"
      ],
      "execution_count": null,
      "outputs": []
    },
    {
      "cell_type": "code",
      "metadata": {
        "colab": {
          "base_uri": "https://localhost:8080/"
        },
        "id": "EqjF4I9lI0Si",
        "outputId": "50ca8869-b0c5-4bf1-8b9f-0944040d2747"
      },
      "source": [
        "link_to_a_char = [FJoin(folder, f) for f in list_char]\n",
        "print(link_to_a_char)\n",
        "print(len(link_to_a_char))"
      ],
      "execution_count": null,
      "outputs": [
        {
          "output_type": "stream",
          "text": [
            "['/content/drive/MyDrive/Data_Final_Project/Test/a', '/content/drive/MyDrive/Data_Final_Project/Test/à', '/content/drive/MyDrive/Data_Final_Project/Test/á', '/content/drive/MyDrive/Data_Final_Project/Test/â', '/content/drive/MyDrive/Data_Final_Project/Test/ầ', '/content/drive/MyDrive/Data_Final_Project/Test/ấ', '/content/drive/MyDrive/Data_Final_Project/Test/ẫ', '/content/drive/MyDrive/Data_Final_Project/Test/ẩ', '/content/drive/MyDrive/Data_Final_Project/Test/ã', '/content/drive/MyDrive/Data_Final_Project/Test/ă', '/content/drive/MyDrive/Data_Final_Project/Test/ằ', '/content/drive/MyDrive/Data_Final_Project/Test/ắ', '/content/drive/MyDrive/Data_Final_Project/Test/ẵ', '/content/drive/MyDrive/Data_Final_Project/Test/ẳ', '/content/drive/MyDrive/Data_Final_Project/Test/ả', '/content/drive/MyDrive/Data_Final_Project/Test/ạ', '/content/drive/MyDrive/Data_Final_Project/Test/ậ', '/content/drive/MyDrive/Data_Final_Project/Test/ặ', '/content/drive/MyDrive/Data_Final_Project/Test/b', '/content/drive/MyDrive/Data_Final_Project/Test/c', '/content/drive/MyDrive/Data_Final_Project/Test/d', '/content/drive/MyDrive/Data_Final_Project/Test/e', '/content/drive/MyDrive/Data_Final_Project/Test/è', '/content/drive/MyDrive/Data_Final_Project/Test/é', '/content/drive/MyDrive/Data_Final_Project/Test/ê', '/content/drive/MyDrive/Data_Final_Project/Test/ề', '/content/drive/MyDrive/Data_Final_Project/Test/ế', '/content/drive/MyDrive/Data_Final_Project/Test/ễ', '/content/drive/MyDrive/Data_Final_Project/Test/ể', '/content/drive/MyDrive/Data_Final_Project/Test/ẽ', '/content/drive/MyDrive/Data_Final_Project/Test/ẻ', '/content/drive/MyDrive/Data_Final_Project/Test/ẹ', '/content/drive/MyDrive/Data_Final_Project/Test/ệ', '/content/drive/MyDrive/Data_Final_Project/Test/g', '/content/drive/MyDrive/Data_Final_Project/Test/h', '/content/drive/MyDrive/Data_Final_Project/Test/i', '/content/drive/MyDrive/Data_Final_Project/Test/ì', '/content/drive/MyDrive/Data_Final_Project/Test/í', '/content/drive/MyDrive/Data_Final_Project/Test/ĩ', '/content/drive/MyDrive/Data_Final_Project/Test/ỉ', '/content/drive/MyDrive/Data_Final_Project/Test/ị', '/content/drive/MyDrive/Data_Final_Project/Test/k', '/content/drive/MyDrive/Data_Final_Project/Test/l', '/content/drive/MyDrive/Data_Final_Project/Test/m', '/content/drive/MyDrive/Data_Final_Project/Test/n', '/content/drive/MyDrive/Data_Final_Project/Test/o', '/content/drive/MyDrive/Data_Final_Project/Test/ò', '/content/drive/MyDrive/Data_Final_Project/Test/ó', '/content/drive/MyDrive/Data_Final_Project/Test/ô', '/content/drive/MyDrive/Data_Final_Project/Test/ồ', '/content/drive/MyDrive/Data_Final_Project/Test/ố', '/content/drive/MyDrive/Data_Final_Project/Test/ỗ', '/content/drive/MyDrive/Data_Final_Project/Test/ổ', '/content/drive/MyDrive/Data_Final_Project/Test/õ', '/content/drive/MyDrive/Data_Final_Project/Test/ỏ', '/content/drive/MyDrive/Data_Final_Project/Test/ơ', '/content/drive/MyDrive/Data_Final_Project/Test/ờ', '/content/drive/MyDrive/Data_Final_Project/Test/ớ', '/content/drive/MyDrive/Data_Final_Project/Test/ỡ', '/content/drive/MyDrive/Data_Final_Project/Test/ở', '/content/drive/MyDrive/Data_Final_Project/Test/ợ', '/content/drive/MyDrive/Data_Final_Project/Test/ọ', '/content/drive/MyDrive/Data_Final_Project/Test/ộ', '/content/drive/MyDrive/Data_Final_Project/Test/p', '/content/drive/MyDrive/Data_Final_Project/Test/q', '/content/drive/MyDrive/Data_Final_Project/Test/r', '/content/drive/MyDrive/Data_Final_Project/Test/s', '/content/drive/MyDrive/Data_Final_Project/Test/t', '/content/drive/MyDrive/Data_Final_Project/Test/u', '/content/drive/MyDrive/Data_Final_Project/Test/ù', '/content/drive/MyDrive/Data_Final_Project/Test/ú', '/content/drive/MyDrive/Data_Final_Project/Test/ũ', '/content/drive/MyDrive/Data_Final_Project/Test/ủ', '/content/drive/MyDrive/Data_Final_Project/Test/ư', '/content/drive/MyDrive/Data_Final_Project/Test/ừ', '/content/drive/MyDrive/Data_Final_Project/Test/ứ', '/content/drive/MyDrive/Data_Final_Project/Test/ữ', '/content/drive/MyDrive/Data_Final_Project/Test/ử', '/content/drive/MyDrive/Data_Final_Project/Test/ự', '/content/drive/MyDrive/Data_Final_Project/Test/ụ', '/content/drive/MyDrive/Data_Final_Project/Test/v', '/content/drive/MyDrive/Data_Final_Project/Test/x', '/content/drive/MyDrive/Data_Final_Project/Test/y', '/content/drive/MyDrive/Data_Final_Project/Test/ỳ', '/content/drive/MyDrive/Data_Final_Project/Test/ý', '/content/drive/MyDrive/Data_Final_Project/Test/ỹ', '/content/drive/MyDrive/Data_Final_Project/Test/ỷ', '/content/drive/MyDrive/Data_Final_Project/Test/ỵ', '/content/drive/MyDrive/Data_Final_Project/Test/đ']\n",
            "89\n"
          ],
          "name": "stdout"
        }
      ]
    },
    {
      "cell_type": "code",
      "metadata": {
        "id": "uFjo_NDeI2Nd"
      },
      "source": [
        "# Hàm cắt gọn ảnh bằng cách xác định các countours\n",
        "def crop_images(img):\n",
        "    blur = cv2.GaussianBlur(img,(7,7),0)\n",
        "    thresh = cv2.adaptiveThreshold(blur,255,cv2.ADAPTIVE_THRESH_GAUSSIAN_C,cv2.THRESH_BINARY_INV,7,7)\n",
        "    contours = cv2.findContours(thresh, cv2.RETR_EXTERNAL, cv2.CHAIN_APPROX_SIMPLE)[0]\n",
        "    x_min = 10**9\n",
        "    x_max = 0\n",
        "    y_min = 10**9\n",
        "    y_max = 0\n",
        "\n",
        "    for cnt in contours:\n",
        "        x, y, width, height = cv2.boundingRect(cnt)\n",
        "        if cv2.contourArea(cnt) > 0:\n",
        "            x_min = min(x_min, x)\n",
        "            y_min = min(y_min, y)\n",
        "\n",
        "            if x + width > x_max:\n",
        "                x_max = x + width\n",
        "\n",
        "            if y + height > y_max:\n",
        "                y_max = y + height\n",
        "\n",
        "    table = thresh[y_min: y_max, x_min:x_max]\n",
        "    return table"
      ],
      "execution_count": null,
      "outputs": []
    },
    {
      "cell_type": "code",
      "metadata": {
        "id": "s5krqKbsI4Nb"
      },
      "source": [
        "# Chuyển ảnh về trắng đen và cắt gọn ảnh\n",
        "for link in link_to_a_char:\n",
        "  lst_link_img = [FJoin(link, img_link) for img_link in os.listdir(link)]\n",
        "  for img_link in lst_link_img:\n",
        "    img = cv2.imread(img_link, 0)\n",
        "    img = crop_images(img)\n",
        "    try:\n",
        "      cv2.imwrite(img_link, img)\n",
        "    except:\n",
        "      continue"
      ],
      "execution_count": null,
      "outputs": []
    },
    {
      "cell_type": "code",
      "metadata": {
        "id": "sqMvWm4sQyI_"
      },
      "source": [
        "#resize ảnh về cùng kích thước\n",
        "for link in link_to_a_char:\n",
        "  lst_link_img = [FJoin(link, img_link) for img_link in os.listdir(link)]\n",
        "  for img_link in lst_link_img:\n",
        "    try:\n",
        "      img = Image.open(img_link)\n",
        "      img = img.resize((16,16))\n",
        "      img.save(img_link)\n",
        "    except:\n",
        "      continue"
      ],
      "execution_count": null,
      "outputs": []
    },
    {
      "cell_type": "code",
      "metadata": {
        "id": "x-ur5OTqqbgO",
        "colab": {
          "base_uri": "https://localhost:8080/"
        },
        "outputId": "fbb7b5b8-c4df-4965-ac4c-64d5df94e105"
      },
      "source": [
        "# Thống kê số lượng ảnh test ở mỗi folder\n",
        "i = 0\n",
        "S = 0\n",
        "for link in link_to_a_char:\n",
        "  count_ = 0\n",
        "  lst_link_img = [FJoin(link, img_link) for img_link in os.listdir(link)]\n",
        "  for img_link in lst_link_img:\n",
        "    count_ += 1\n",
        "  S += count_\n",
        "  print(\"len of folder \", list_char[i], \" is: \", str(count_))\n",
        "  i += 1\n",
        "print(S)"
      ],
      "execution_count": null,
      "outputs": [
        {
          "output_type": "stream",
          "text": [
            "len of folder  a  is:  60\n",
            "len of folder  à  is:  60\n",
            "len of folder  á  is:  60\n",
            "len of folder  â  is:  60\n",
            "len of folder  ầ  is:  60\n",
            "len of folder  ấ  is:  60\n",
            "len of folder  ẫ  is:  60\n",
            "len of folder  ẩ  is:  60\n",
            "len of folder  ã  is:  60\n",
            "len of folder  ă  is:  60\n",
            "len of folder  ằ  is:  60\n",
            "len of folder  ắ  is:  60\n",
            "len of folder  ẵ  is:  60\n",
            "len of folder  ẳ  is:  60\n",
            "len of folder  ả  is:  60\n",
            "len of folder  ạ  is:  60\n",
            "len of folder  ậ  is:  60\n",
            "len of folder  ặ  is:  60\n",
            "len of folder  b  is:  60\n",
            "len of folder  c  is:  60\n",
            "len of folder  d  is:  60\n",
            "len of folder  e  is:  60\n",
            "len of folder  è  is:  60\n",
            "len of folder  é  is:  60\n",
            "len of folder  ê  is:  60\n",
            "len of folder  ề  is:  60\n",
            "len of folder  ế  is:  60\n",
            "len of folder  ễ  is:  60\n",
            "len of folder  ể  is:  60\n",
            "len of folder  ẽ  is:  60\n",
            "len of folder  ẻ  is:  60\n",
            "len of folder  ẹ  is:  60\n",
            "len of folder  ệ  is:  60\n",
            "len of folder  g  is:  60\n",
            "len of folder  h  is:  60\n",
            "len of folder  i  is:  60\n",
            "len of folder  ì  is:  60\n",
            "len of folder  í  is:  60\n",
            "len of folder  ĩ  is:  60\n",
            "len of folder  ỉ  is:  60\n",
            "len of folder  ị  is:  60\n",
            "len of folder  k  is:  60\n",
            "len of folder  l  is:  60\n",
            "len of folder  m  is:  60\n",
            "len of folder  n  is:  60\n",
            "len of folder  o  is:  61\n",
            "len of folder  ò  is:  61\n",
            "len of folder  ó  is:  60\n",
            "len of folder  ô  is:  61\n",
            "len of folder  ồ  is:  61\n",
            "len of folder  ố  is:  61\n",
            "len of folder  ỗ  is:  61\n",
            "len of folder  ổ  is:  61\n",
            "len of folder  õ  is:  61\n",
            "len of folder  ỏ  is:  61\n",
            "len of folder  ơ  is:  61\n",
            "len of folder  ờ  is:  61\n",
            "len of folder  ớ  is:  61\n",
            "len of folder  ỡ  is:  61\n",
            "len of folder  ở  is:  61\n",
            "len of folder  ợ  is:  61\n",
            "len of folder  ọ  is:  61\n",
            "len of folder  ộ  is:  61\n",
            "len of folder  p  is:  61\n",
            "len of folder  q  is:  61\n",
            "len of folder  r  is:  61\n",
            "len of folder  s  is:  61\n",
            "len of folder  t  is:  62\n",
            "len of folder  u  is:  61\n",
            "len of folder  ù  is:  61\n",
            "len of folder  ú  is:  61\n",
            "len of folder  ũ  is:  61\n",
            "len of folder  ủ  is:  61\n",
            "len of folder  ư  is:  61\n",
            "len of folder  ừ  is:  61\n",
            "len of folder  ứ  is:  61\n",
            "len of folder  ữ  is:  61\n",
            "len of folder  ử  is:  61\n",
            "len of folder  ự  is:  61\n",
            "len of folder  ụ  is:  61\n",
            "len of folder  v  is:  61\n",
            "len of folder  x  is:  61\n",
            "len of folder  y  is:  62\n",
            "len of folder  ỳ  is:  61\n",
            "len of folder  ý  is:  61\n",
            "len of folder  ỹ  is:  61\n",
            "len of folder  ỷ  is:  61\n",
            "len of folder  ỵ  is:  61\n",
            "len of folder  đ  is:  60\n",
            "5384\n"
          ],
          "name": "stdout"
        }
      ]
    }
  ]
}
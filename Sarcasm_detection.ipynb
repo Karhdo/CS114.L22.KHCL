{
  "nbformat": 4,
  "nbformat_minor": 0,
  "metadata": {
    "colab": {
      "name": "Sarcasm_detection.ipynb",
      "provenance": [],
      "collapsed_sections": [],
      "authorship_tag": "ABX9TyOpyclLZ8v7vku05WMEZHf0",
      "include_colab_link": true
    },
    "kernelspec": {
      "name": "python3",
      "display_name": "Python 3"
    },
    "language_info": {
      "name": "python"
    }
  },
  "cells": [
    {
      "cell_type": "markdown",
      "metadata": {
        "id": "view-in-github",
        "colab_type": "text"
      },
      "source": [
        "<a href=\"https://colab.research.google.com/github/trong-khanh-1109/CS114.L22.KHCL/blob/main/Sarcasm_detection.ipynb\" target=\"_parent\"><img src=\"https://colab.research.google.com/assets/colab-badge.svg\" alt=\"Open In Colab\"/></a>"
      ]
    },
    {
      "cell_type": "markdown",
      "metadata": {
        "id": "1vkDrwAHurYU"
      },
      "source": [
        "<h1 align=\"center\"><b>BÀI TẬP COLAB SỐ 04</b></h1>\n",
        "<h1 align=\"center\"><b>Sarcasm detection in news headline</b></h1>\n",
        "\n",
        "###LỚP: CS114.L21.KHCL-CS114.L22.KHCL\n",
        "###NHÓM:\n",
        "1. Đỗ Trọng Khánh - *19521676*\n",
        "2. Võ Phạm Duy Đức - *19521383*\n",
        "3. Trịnh Công Danh - *19521326*"
      ]
    },
    {
      "cell_type": "markdown",
      "metadata": {
        "id": "Q5qOg4Sbuw2u"
      },
      "source": [
        "#**I. Import thư viện cần thiết**"
      ]
    },
    {
      "cell_type": "code",
      "metadata": {
        "id": "Sbt0izA4NR2l"
      },
      "source": [
        "import numpy as np\n",
        "import pandas as pd\n",
        "\n",
        "import matplotlib.pyplot as plt\n",
        "import seaborn as sns\n",
        "\n",
        "from sklearn.model_selection import train_test_split\n",
        "from keras.preprocessing.sequence import pad_sequences\n",
        "import tensorflow as tf\n",
        "from keras.preprocessing.text import Tokenizer\n",
        "from sklearn.metrics import confusion_matrix, classification_report\n",
        "\n",
        "from keras import models, layers, optimizers, losses, callbacks"
      ],
      "execution_count": 22,
      "outputs": []
    },
    {
      "cell_type": "markdown",
      "metadata": {
        "id": "EsqbQgzMuz_a"
      },
      "source": [
        "#**II. Dataset**"
      ]
    },
    {
      "cell_type": "code",
      "metadata": {
        "colab": {
          "base_uri": "https://localhost:8080/"
        },
        "id": "6GnfONdFFad4",
        "outputId": "5416a6e0-baad-4d74-f9ea-8c7e6814b83c"
      },
      "source": [
        "from google.colab import drive\n",
        "drive.mount('/content/drive')"
      ],
      "execution_count": 23,
      "outputs": [
        {
          "output_type": "stream",
          "text": [
            "Drive already mounted at /content/drive; to attempt to forcibly remount, call drive.mount(\"/content/drive\", force_remount=True).\n"
          ],
          "name": "stdout"
        }
      ]
    },
    {
      "cell_type": "code",
      "metadata": {
        "id": "2PbHV2OYGBsO"
      },
      "source": [
        "# Tin châm biếm\n",
        "df_sarcasm_1 = pd.read_csv('/content/drive/My Drive/Sarcasm_detection/Sarcasm/betoota.csv')\n",
        "df_sarcasm_2 = pd.read_csv('/content/drive/My Drive/Sarcasm_detection/Sarcasm/thehardtimes.csv')\n",
        "df_sarcasm_3 = pd.read_csv('/content/drive/My Drive/Sarcasm_detection/Sarcasm/thepoke.csv')\n",
        "# Tin không châm biếm\n",
        "df_not_sarcasm_1 = pd.read_csv('/content/drive/My Drive/Sarcasm_detection/Not_Sarcasm/citynews.csv')\n",
        "df_not_sarcasm_2 = pd.read_csv('/content/drive/My Drive/Sarcasm_detection/Not_Sarcasm/fortune.csv')\n",
        "df_not_sarcasm_3 = pd.read_csv('/content/drive/My Drive/Sarcasm_detection/Not_Sarcasm/thenewyork.csv')"
      ],
      "execution_count": 24,
      "outputs": []
    },
    {
      "cell_type": "code",
      "metadata": {
        "id": "xkGzPPfYWcST"
      },
      "source": [
        "# Nối các file châm biếm thành 1 file\n",
        "df_sarcasm = df_sarcasm_1.append(df_sarcasm_2, sort = True)\n",
        "df_sarcasm = df_sarcasm.append(df_sarcasm_3, sort = True)\n",
        "# Nối các file không châm biếm thành 1 file\n",
        "df_not_sarcasm = df_not_sarcasm_1.append(df_not_sarcasm_2, sort = True)\n",
        "df_not_sarcasm = df_not_sarcasm.append(df_not_sarcasm_3, sort = True)"
      ],
      "execution_count": 25,
      "outputs": []
    },
    {
      "cell_type": "code",
      "metadata": {
        "colab": {
          "base_uri": "https://localhost:8080/",
          "height": 417
        },
        "id": "wgVIFWHiWilM",
        "outputId": "aee9e339-455e-46b0-a640-e731426b9216"
      },
      "source": [
        "df = df_not_sarcasm.append(df_sarcasm, sort = True)\n",
        "df"
      ],
      "execution_count": 26,
      "outputs": [
        {
          "output_type": "execute_result",
          "data": {
            "text/html": [
              "<div>\n",
              "<style scoped>\n",
              "    .dataframe tbody tr th:only-of-type {\n",
              "        vertical-align: middle;\n",
              "    }\n",
              "\n",
              "    .dataframe tbody tr th {\n",
              "        vertical-align: top;\n",
              "    }\n",
              "\n",
              "    .dataframe thead th {\n",
              "        text-align: right;\n",
              "    }\n",
              "</style>\n",
              "<table border=\"1\" class=\"dataframe\">\n",
              "  <thead>\n",
              "    <tr style=\"text-align: right;\">\n",
              "      <th></th>\n",
              "      <th>article_link</th>\n",
              "      <th>headline</th>\n",
              "      <th>is_sarcastic</th>\n",
              "    </tr>\n",
              "  </thead>\n",
              "  <tbody>\n",
              "    <tr>\n",
              "      <th>0</th>\n",
              "      <td>https://toronto.citynews.ca/2021/06/09/a-look-...</td>\n",
              "      <td>A look at COVID-19 vaccinations in Canada on W...</td>\n",
              "      <td>0</td>\n",
              "    </tr>\n",
              "    <tr>\n",
              "      <th>1</th>\n",
              "      <td>https://toronto.citynews.ca/2021/06/09/the-lat...</td>\n",
              "      <td>The latest numbers on COVID-19 in Canada for W...</td>\n",
              "      <td>0</td>\n",
              "    </tr>\n",
              "    <tr>\n",
              "      <th>2</th>\n",
              "      <td>https://toronto.citynews.ca/2021/06/09/b-c-app...</td>\n",
              "      <td>B.C. approves First Nations’ request to defer ...</td>\n",
              "      <td>0</td>\n",
              "    </tr>\n",
              "    <tr>\n",
              "      <th>3</th>\n",
              "      <td>https://toronto.citynews.ca/2021/06/09/northwe...</td>\n",
              "      <td>Northwest Territories launches reopening plan ...</td>\n",
              "      <td>0</td>\n",
              "    </tr>\n",
              "    <tr>\n",
              "      <th>4</th>\n",
              "      <td>https://toronto.citynews.ca/2021/06/09/report-...</td>\n",
              "      <td>Report says Canada needs to bolster plane cert...</td>\n",
              "      <td>0</td>\n",
              "    </tr>\n",
              "    <tr>\n",
              "      <th>...</th>\n",
              "      <td>...</td>\n",
              "      <td>...</td>\n",
              "      <td>...</td>\n",
              "    </tr>\n",
              "    <tr>\n",
              "      <th>12281</th>\n",
              "      <td>https://www.thepoke.co.uk/2018/05/02/best-camp...</td>\n",
              "      <td>Best campaign leaflet you’ll see this election</td>\n",
              "      <td>1</td>\n",
              "    </tr>\n",
              "    <tr>\n",
              "      <th>12282</th>\n",
              "      <td>https://www.thepoke.co.uk/2018/05/01/most-brut...</td>\n",
              "      <td>The most brutal ‘friend zoning’ of anyone you’...</td>\n",
              "      <td>1</td>\n",
              "    </tr>\n",
              "    <tr>\n",
              "      <th>12283</th>\n",
              "      <td>https://www.thepoke.co.uk/2018/05/01/someones-...</td>\n",
              "      <td>Someone’s collecting the most creative ways pe...</td>\n",
              "      <td>1</td>\n",
              "    </tr>\n",
              "    <tr>\n",
              "      <th>12284</th>\n",
              "      <td>https://www.thepoke.co.uk/2018/05/01/matthew-w...</td>\n",
              "      <td>Matthew Wright’s leaving The Wright Stuff so l...</td>\n",
              "      <td>1</td>\n",
              "    </tr>\n",
              "    <tr>\n",
              "      <th>12285</th>\n",
              "      <td>https://www.thepoke.co.uk/2018/05/01/benedict-...</td>\n",
              "      <td>Benedict Cumberbatch stopping Tom Holland’s sp...</td>\n",
              "      <td>1</td>\n",
              "    </tr>\n",
              "  </tbody>\n",
              "</table>\n",
              "<p>41876 rows × 3 columns</p>\n",
              "</div>"
            ],
            "text/plain": [
              "                                            article_link  ... is_sarcastic\n",
              "0      https://toronto.citynews.ca/2021/06/09/a-look-...  ...            0\n",
              "1      https://toronto.citynews.ca/2021/06/09/the-lat...  ...            0\n",
              "2      https://toronto.citynews.ca/2021/06/09/b-c-app...  ...            0\n",
              "3      https://toronto.citynews.ca/2021/06/09/northwe...  ...            0\n",
              "4      https://toronto.citynews.ca/2021/06/09/report-...  ...            0\n",
              "...                                                  ...  ...          ...\n",
              "12281  https://www.thepoke.co.uk/2018/05/02/best-camp...  ...            1\n",
              "12282  https://www.thepoke.co.uk/2018/05/01/most-brut...  ...            1\n",
              "12283  https://www.thepoke.co.uk/2018/05/01/someones-...  ...            1\n",
              "12284  https://www.thepoke.co.uk/2018/05/01/matthew-w...  ...            1\n",
              "12285  https://www.thepoke.co.uk/2018/05/01/benedict-...  ...            1\n",
              "\n",
              "[41876 rows x 3 columns]"
            ]
          },
          "metadata": {
            "tags": []
          },
          "execution_count": 26
        }
      ]
    },
    {
      "cell_type": "code",
      "metadata": {
        "colab": {
          "base_uri": "https://localhost:8080/",
          "height": 417
        },
        "id": "V9-6R4riWpJh",
        "outputId": "54466ed2-04fc-44f2-df11-ff75d2fce129"
      },
      "source": [
        "# Xáo trộn dữ liệu trong df\n",
        "df = df.sample(frac=1).reset_index(drop=True)\n",
        "df"
      ],
      "execution_count": 27,
      "outputs": [
        {
          "output_type": "execute_result",
          "data": {
            "text/html": [
              "<div>\n",
              "<style scoped>\n",
              "    .dataframe tbody tr th:only-of-type {\n",
              "        vertical-align: middle;\n",
              "    }\n",
              "\n",
              "    .dataframe tbody tr th {\n",
              "        vertical-align: top;\n",
              "    }\n",
              "\n",
              "    .dataframe thead th {\n",
              "        text-align: right;\n",
              "    }\n",
              "</style>\n",
              "<table border=\"1\" class=\"dataframe\">\n",
              "  <thead>\n",
              "    <tr style=\"text-align: right;\">\n",
              "      <th></th>\n",
              "      <th>article_link</th>\n",
              "      <th>headline</th>\n",
              "      <th>is_sarcastic</th>\n",
              "    </tr>\n",
              "  </thead>\n",
              "  <tbody>\n",
              "    <tr>\n",
              "      <th>0</th>\n",
              "      <td>https://www.thepoke.co.uk/2020/08/06/accidenta...</td>\n",
              "      <td>The ‘accidentally left-wing’ Twitter account s...</td>\n",
              "      <td>1</td>\n",
              "    </tr>\n",
              "    <tr>\n",
              "      <th>1</th>\n",
              "      <td>https://thehardtimes.net/blog/we-interviewed-t...</td>\n",
              "      <td>We Interviewed the Wrong Dave Matthews but Now...</td>\n",
              "      <td>1</td>\n",
              "    </tr>\n",
              "    <tr>\n",
              "      <th>2</th>\n",
              "      <td>https://thehardtimes.net/blog/we-ranked-the-to...</td>\n",
              "      <td>We Ranked the Top 10 Amazing Things You Could ...</td>\n",
              "      <td>1</td>\n",
              "    </tr>\n",
              "    <tr>\n",
              "      <th>3</th>\n",
              "      <td>https://toronto.citynews.ca/2020/06/13/quebec-...</td>\n",
              "      <td>Quebec provincial police searching for armed m...</td>\n",
              "      <td>0</td>\n",
              "    </tr>\n",
              "    <tr>\n",
              "      <th>4</th>\n",
              "      <td>https://fortune.com/2019/10/21/renewables-sola...</td>\n",
              "      <td>Plunging Costs Make Solar the Renewables Leade...</td>\n",
              "      <td>0</td>\n",
              "    </tr>\n",
              "    <tr>\n",
              "      <th>...</th>\n",
              "      <td>...</td>\n",
              "      <td>...</td>\n",
              "      <td>...</td>\n",
              "    </tr>\n",
              "    <tr>\n",
              "      <th>41871</th>\n",
              "      <td>https://toronto.citynews.ca/2019/12/05/supreme...</td>\n",
              "      <td>Supreme Court won’t hear appeal from former Na...</td>\n",
              "      <td>0</td>\n",
              "    </tr>\n",
              "    <tr>\n",
              "      <th>41872</th>\n",
              "      <td>https://toronto.citynews.ca/2021/01/23/could-a...</td>\n",
              "      <td>Could a psychedelic gold rush be on the horizon?</td>\n",
              "      <td>0</td>\n",
              "    </tr>\n",
              "    <tr>\n",
              "      <th>41873</th>\n",
              "      <td>https://www.thepoke.co.uk/2019/01/09/keep-eye-...</td>\n",
              "      <td>Keep your eye on the big road sign because thi...</td>\n",
              "      <td>1</td>\n",
              "    </tr>\n",
              "    <tr>\n",
              "      <th>41874</th>\n",
              "      <td>https://www.thepoke.co.uk/2018/07/26/this-mast...</td>\n",
              "      <td>This masterclass in dealing with scammers is t...</td>\n",
              "      <td>1</td>\n",
              "    </tr>\n",
              "    <tr>\n",
              "      <th>41875</th>\n",
              "      <td>https://www.thepoke.co.uk/2020/06/24/allison-p...</td>\n",
              "      <td>Allison Pearson said this about Michaela Coel’...</td>\n",
              "      <td>1</td>\n",
              "    </tr>\n",
              "  </tbody>\n",
              "</table>\n",
              "<p>41876 rows × 3 columns</p>\n",
              "</div>"
            ],
            "text/plain": [
              "                                            article_link  ... is_sarcastic\n",
              "0      https://www.thepoke.co.uk/2020/08/06/accidenta...  ...            1\n",
              "1      https://thehardtimes.net/blog/we-interviewed-t...  ...            1\n",
              "2      https://thehardtimes.net/blog/we-ranked-the-to...  ...            1\n",
              "3      https://toronto.citynews.ca/2020/06/13/quebec-...  ...            0\n",
              "4      https://fortune.com/2019/10/21/renewables-sola...  ...            0\n",
              "...                                                  ...  ...          ...\n",
              "41871  https://toronto.citynews.ca/2019/12/05/supreme...  ...            0\n",
              "41872  https://toronto.citynews.ca/2021/01/23/could-a...  ...            0\n",
              "41873  https://www.thepoke.co.uk/2019/01/09/keep-eye-...  ...            1\n",
              "41874  https://www.thepoke.co.uk/2018/07/26/this-mast...  ...            1\n",
              "41875  https://www.thepoke.co.uk/2020/06/24/allison-p...  ...            1\n",
              "\n",
              "[41876 rows x 3 columns]"
            ]
          },
          "metadata": {
            "tags": []
          },
          "execution_count": 27
        }
      ]
    },
    {
      "cell_type": "code",
      "metadata": {
        "colab": {
          "base_uri": "https://localhost:8080/"
        },
        "id": "HTpn0LQkX_tD",
        "outputId": "cdb57ffe-9ce1-47bd-c63d-aadf0d535bcb"
      },
      "source": [
        "df.info()"
      ],
      "execution_count": 28,
      "outputs": [
        {
          "output_type": "stream",
          "text": [
            "<class 'pandas.core.frame.DataFrame'>\n",
            "RangeIndex: 41876 entries, 0 to 41875\n",
            "Data columns (total 3 columns):\n",
            " #   Column        Non-Null Count  Dtype \n",
            "---  ------        --------------  ----- \n",
            " 0   article_link  41876 non-null  object\n",
            " 1   headline      41876 non-null  object\n",
            " 2   is_sarcastic  41876 non-null  int64 \n",
            "dtypes: int64(1), object(2)\n",
            "memory usage: 981.6+ KB\n"
          ],
          "name": "stdout"
        }
      ]
    },
    {
      "cell_type": "markdown",
      "metadata": {
        "id": "tAUcClj7YHqT"
      },
      "source": [
        "#**III. Tiền xử lý dữ liệu**"
      ]
    },
    {
      "cell_type": "code",
      "metadata": {
        "id": "OcojYVF9eRdV"
      },
      "source": [
        "def get_sequences(texts, tokenizer, train = True, max_seq_length = None):\n",
        "  sequences = tokenizer.texts_to_sequences(texts) # Ánh xạ mỗi từ của 1 câu qua số nguyên dương\n",
        "  # Các câu đều có độ dài khác nhau nên bước tiếp theo chúng ta cần đưa chúng về cùng độ dài với độ dài là độ dài max của một chuỗi\n",
        "\n",
        "  if train == True:\n",
        "    max_seq_length = np.max(list(map(len, sequences)))  # Tìm chuỗi có độ dài lớn nhất\n",
        "  sequences = tf.keras.preprocessing.sequence.pad_sequences(sequences, maxlen = max_seq_length, padding = 'post') # Đưa các câu về cùng độ dài\n",
        "  return sequences"
      ],
      "execution_count": 29,
      "outputs": []
    },
    {
      "cell_type": "code",
      "metadata": {
        "id": "Xxr7AqJ6XB9f"
      },
      "source": [
        "def preprocess_inputs(df):\n",
        "  df = df.copy()\n",
        "  # Xóa cột article_link\n",
        "  df = df.drop('article_link', axis = 1)\n",
        "  # \n",
        "  X = df['headline']\n",
        "  y = df['is_sarcastic']\n",
        "  # Chia tập dữ liệu train test\n",
        "  X_train, X_test, y_train, y_test = train_test_split(X, y, train_size = 0.7, shuffle = True, random_state = 1)\n",
        "  # Tạo và fit tokenizer\n",
        "  tokenizer = tf.keras.preprocessing.text.Tokenizer()\n",
        "  tokenizer.fit_on_texts(X_train)\n",
        "  print(\"Số lượng từ :\", len(tokenizer.word_index) + 1) # Các từ được sắp xếp từ trên xuống theo tần xuất xuất hiện\n",
        "  # get sequences data\n",
        "  X_train = get_sequences(texts = X_train, tokenizer = tokenizer, train = True)\n",
        "  X_test = get_sequences(texts = X_test, tokenizer = tokenizer, train = False, max_seq_length = X_train.shape[1])\n",
        "  print(\"Độ dài của câu: \", X_train.shape[1])\n",
        "  return X_train, X_test, y_train, y_test"
      ],
      "execution_count": 30,
      "outputs": []
    },
    {
      "cell_type": "markdown",
      "metadata": {
        "id": "ACXhzPkGvxGI"
      },
      "source": [
        "#**VI. Chia tập dữ liệu train test**"
      ]
    },
    {
      "cell_type": "code",
      "metadata": {
        "colab": {
          "base_uri": "https://localhost:8080/"
        },
        "id": "lDwP-IcZZn6o",
        "outputId": "a794ffc6-76fd-430a-c99a-d19b9a859c7f"
      },
      "source": [
        "X_train, X_test, y_train, y_test = preprocess_inputs(df)"
      ],
      "execution_count": 31,
      "outputs": [
        {
          "output_type": "stream",
          "text": [
            "Số lượng từ : 28642\n",
            "Độ dài của câu:  76\n"
          ],
          "name": "stdout"
        }
      ]
    },
    {
      "cell_type": "code",
      "metadata": {
        "colab": {
          "base_uri": "https://localhost:8080/"
        },
        "id": "pjrgH278Z7ny",
        "outputId": "2f14c7ce-1a03-42e4-9b1d-434409ca2e85"
      },
      "source": [
        "X_train"
      ],
      "execution_count": 32,
      "outputs": [
        {
          "output_type": "execute_result",
          "data": {
            "text/plain": [
              "array([[   64,  1882,  1411, ...,     0,     0,     0],\n",
              "       [   75,   417,     3, ...,     0,     0,     0],\n",
              "       [  867,   418,  1170, ...,     0,     0,     0],\n",
              "       ...,\n",
              "       [  211,    73,  5098, ...,     0,     0,     0],\n",
              "       [ 3498, 28639,   851, ...,     0,     0,     0],\n",
              "       [  561,    40, 28641, ...,     0,     0,     0]], dtype=int32)"
            ]
          },
          "metadata": {
            "tags": []
          },
          "execution_count": 32
        }
      ]
    },
    {
      "cell_type": "code",
      "metadata": {
        "colab": {
          "base_uri": "https://localhost:8080/"
        },
        "id": "4SZgg34mM2Hj",
        "outputId": "e07238d8-bbb4-4c0a-db22-4a7868fdfc67"
      },
      "source": [
        "y_train.value_counts()"
      ],
      "execution_count": 33,
      "outputs": [
        {
          "output_type": "execute_result",
          "data": {
            "text/plain": [
              "0    15118\n",
              "1    14195\n",
              "Name: is_sarcastic, dtype: int64"
            ]
          },
          "metadata": {
            "tags": []
          },
          "execution_count": 33
        }
      ]
    },
    {
      "cell_type": "code",
      "metadata": {
        "colab": {
          "base_uri": "https://localhost:8080/"
        },
        "id": "SvMO8xo9g2Qh",
        "outputId": "af50440a-a77f-4987-ed68-4c79ec5afa02"
      },
      "source": [
        "X_test"
      ],
      "execution_count": 34,
      "outputs": [
        {
          "output_type": "execute_result",
          "data": {
            "text/plain": [
              "array([[ 9172,   907,   853, ...,     0,     0,     0],\n",
              "       [    9,   701,    48, ...,     0,     0,     0],\n",
              "       [   90,     4,   281, ...,     0,     0,     0],\n",
              "       ...,\n",
              "       [ 2246,    56, 12560, ...,     0,     0,     0],\n",
              "       [  122,   386,  4761, ...,     0,     0,     0],\n",
              "       [  412,    44,   309, ...,     0,     0,     0]], dtype=int32)"
            ]
          },
          "metadata": {
            "tags": []
          },
          "execution_count": 34
        }
      ]
    },
    {
      "cell_type": "code",
      "metadata": {
        "colab": {
          "base_uri": "https://localhost:8080/"
        },
        "id": "sST6teVQg3u-",
        "outputId": "57120abd-b43a-480f-a48d-935900c9fe5d"
      },
      "source": [
        "y_test"
      ],
      "execution_count": 35,
      "outputs": [
        {
          "output_type": "execute_result",
          "data": {
            "text/plain": [
              "1785     1\n",
              "5104     1\n",
              "8850     0\n",
              "12585    0\n",
              "15937    1\n",
              "        ..\n",
              "41451    1\n",
              "31192    0\n",
              "22860    0\n",
              "32065    0\n",
              "33359    0\n",
              "Name: is_sarcastic, Length: 12563, dtype: int64"
            ]
          },
          "metadata": {
            "tags": []
          },
          "execution_count": 35
        }
      ]
    },
    {
      "cell_type": "code",
      "metadata": {
        "colab": {
          "base_uri": "https://localhost:8080/"
        },
        "id": "0SZ1DfxWg8X8",
        "outputId": "2fa335e9-b25a-4b7f-eb76-2efdb22f24f3"
      },
      "source": [
        "X_train = np.array(X_train)\n",
        "X_test = np.array(X_test)\n",
        "y_train = np.array(y_train)\n",
        "y_test = np.array(y_test)\n",
        "X_train"
      ],
      "execution_count": 36,
      "outputs": [
        {
          "output_type": "execute_result",
          "data": {
            "text/plain": [
              "array([[   64,  1882,  1411, ...,     0,     0,     0],\n",
              "       [   75,   417,     3, ...,     0,     0,     0],\n",
              "       [  867,   418,  1170, ...,     0,     0,     0],\n",
              "       ...,\n",
              "       [  211,    73,  5098, ...,     0,     0,     0],\n",
              "       [ 3498, 28639,   851, ...,     0,     0,     0],\n",
              "       [  561,    40, 28641, ...,     0,     0,     0]], dtype=int32)"
            ]
          },
          "metadata": {
            "tags": []
          },
          "execution_count": 36
        }
      ]
    },
    {
      "cell_type": "markdown",
      "metadata": {
        "id": "Lvvh2e92PQpV"
      },
      "source": [
        "#**V. Tạo model**"
      ]
    },
    {
      "cell_type": "code",
      "metadata": {
        "id": "It77pVFSPSJg"
      },
      "source": [
        "model = tf.keras.Sequential([\n",
        "    tf.keras.layers.Embedding(28930, 16, input_length=40),\n",
        "    tf.keras.layers.GlobalAveragePooling1D(),\n",
        "    tf.keras.layers.Dense(128, activation='relu'),\n",
        "    #tf.keras.layers.Dense(128, activation='relu'),\n",
        "    tf.keras.layers.Dense(1, activation='sigmoid')\n",
        "])\n",
        "model.compile(loss='binary_crossentropy',optimizer='adam',metrics=['accuracy'])"
      ],
      "execution_count": 37,
      "outputs": []
    },
    {
      "cell_type": "code",
      "metadata": {
        "colab": {
          "base_uri": "https://localhost:8080/"
        },
        "id": "c_1RUKivmkPD",
        "outputId": "df1f4f5c-cd75-474b-a5bd-8ce638fc52c9"
      },
      "source": [
        "model.summary()"
      ],
      "execution_count": 38,
      "outputs": [
        {
          "output_type": "stream",
          "text": [
            "Model: \"sequential_2\"\n",
            "_________________________________________________________________\n",
            "Layer (type)                 Output Shape              Param #   \n",
            "=================================================================\n",
            "embedding_2 (Embedding)      (None, 40, 16)            462880    \n",
            "_________________________________________________________________\n",
            "global_average_pooling1d_2 ( (None, 16)                0         \n",
            "_________________________________________________________________\n",
            "dense_4 (Dense)              (None, 128)               2176      \n",
            "_________________________________________________________________\n",
            "dense_5 (Dense)              (None, 1)                 129       \n",
            "=================================================================\n",
            "Total params: 465,185\n",
            "Trainable params: 465,185\n",
            "Non-trainable params: 0\n",
            "_________________________________________________________________\n"
          ],
          "name": "stdout"
        }
      ]
    },
    {
      "cell_type": "markdown",
      "metadata": {
        "id": "TK3U34KQvfio"
      },
      "source": [
        "#**VI. Training**"
      ]
    },
    {
      "cell_type": "code",
      "metadata": {
        "colab": {
          "base_uri": "https://localhost:8080/"
        },
        "id": "xnraMaYBYZjA",
        "outputId": "6e724e56-a785-4305-fc4d-cf360ba14e6b"
      },
      "source": [
        "history = model.fit(X_train, y_train, epochs=30, validation_data=(X_test, y_test), verbose=2)"
      ],
      "execution_count": 39,
      "outputs": [
        {
          "output_type": "stream",
          "text": [
            "Epoch 1/30\n",
            "WARNING:tensorflow:Model was constructed with shape (None, 40) for input KerasTensor(type_spec=TensorSpec(shape=(None, 40), dtype=tf.float32, name='embedding_2_input'), name='embedding_2_input', description=\"created by layer 'embedding_2_input'\"), but it was called on an input with incompatible shape (None, 76).\n",
            "WARNING:tensorflow:Model was constructed with shape (None, 40) for input KerasTensor(type_spec=TensorSpec(shape=(None, 40), dtype=tf.float32, name='embedding_2_input'), name='embedding_2_input', description=\"created by layer 'embedding_2_input'\"), but it was called on an input with incompatible shape (None, 76).\n",
            "WARNING:tensorflow:Model was constructed with shape (None, 40) for input KerasTensor(type_spec=TensorSpec(shape=(None, 40), dtype=tf.float32, name='embedding_2_input'), name='embedding_2_input', description=\"created by layer 'embedding_2_input'\"), but it was called on an input with incompatible shape (None, 76).\n",
            "917/917 - 6s - loss: 0.3359 - accuracy: 0.8419 - val_loss: 0.1406 - val_accuracy: 0.9469\n",
            "Epoch 2/30\n",
            "917/917 - 5s - loss: 0.0921 - accuracy: 0.9682 - val_loss: 0.1059 - val_accuracy: 0.9599\n",
            "Epoch 3/30\n",
            "917/917 - 5s - loss: 0.0522 - accuracy: 0.9828 - val_loss: 0.0969 - val_accuracy: 0.9646\n",
            "Epoch 4/30\n",
            "917/917 - 5s - loss: 0.0302 - accuracy: 0.9907 - val_loss: 0.1045 - val_accuracy: 0.9619\n",
            "Epoch 5/30\n",
            "917/917 - 5s - loss: 0.0184 - accuracy: 0.9949 - val_loss: 0.1053 - val_accuracy: 0.9647\n",
            "Epoch 6/30\n",
            "917/917 - 5s - loss: 0.0104 - accuracy: 0.9976 - val_loss: 0.1129 - val_accuracy: 0.9638\n",
            "Epoch 7/30\n",
            "917/917 - 5s - loss: 0.0061 - accuracy: 0.9985 - val_loss: 0.1314 - val_accuracy: 0.9610\n",
            "Epoch 8/30\n",
            "917/917 - 6s - loss: 0.0030 - accuracy: 0.9995 - val_loss: 0.2025 - val_accuracy: 0.9486\n",
            "Epoch 9/30\n",
            "917/917 - 5s - loss: 0.0018 - accuracy: 0.9999 - val_loss: 0.1504 - val_accuracy: 0.9609\n",
            "Epoch 10/30\n",
            "917/917 - 5s - loss: 0.0011 - accuracy: 0.9999 - val_loss: 0.1918 - val_accuracy: 0.9569\n",
            "Epoch 11/30\n",
            "917/917 - 6s - loss: 8.1671e-04 - accuracy: 0.9999 - val_loss: 0.1723 - val_accuracy: 0.9608\n",
            "Epoch 12/30\n",
            "917/917 - 5s - loss: 5.6816e-04 - accuracy: 0.9999 - val_loss: 0.1864 - val_accuracy: 0.9601\n",
            "Epoch 13/30\n",
            "917/917 - 5s - loss: 0.0011 - accuracy: 0.9997 - val_loss: 0.1960 - val_accuracy: 0.9604\n",
            "Epoch 14/30\n",
            "917/917 - 5s - loss: 4.7583e-04 - accuracy: 0.9999 - val_loss: 0.2062 - val_accuracy: 0.9598\n",
            "Epoch 15/30\n",
            "917/917 - 5s - loss: 2.6959e-04 - accuracy: 0.9999 - val_loss: 0.2056 - val_accuracy: 0.9597\n",
            "Epoch 16/30\n",
            "917/917 - 5s - loss: 7.0749e-04 - accuracy: 0.9997 - val_loss: 0.2156 - val_accuracy: 0.9600\n",
            "Epoch 17/30\n",
            "917/917 - 5s - loss: 3.7821e-04 - accuracy: 0.9999 - val_loss: 0.2192 - val_accuracy: 0.9592\n",
            "Epoch 18/30\n",
            "917/917 - 5s - loss: 5.1189e-04 - accuracy: 0.9999 - val_loss: 0.2311 - val_accuracy: 0.9581\n",
            "Epoch 19/30\n",
            "917/917 - 5s - loss: 5.9240e-04 - accuracy: 0.9998 - val_loss: 0.2375 - val_accuracy: 0.9584\n",
            "Epoch 20/30\n",
            "917/917 - 5s - loss: 1.4355e-04 - accuracy: 1.0000 - val_loss: 0.2427 - val_accuracy: 0.9579\n",
            "Epoch 21/30\n",
            "917/917 - 5s - loss: 1.0961e-04 - accuracy: 1.0000 - val_loss: 0.2473 - val_accuracy: 0.9573\n",
            "Epoch 22/30\n",
            "917/917 - 5s - loss: 5.4676e-04 - accuracy: 0.9997 - val_loss: 0.2628 - val_accuracy: 0.9567\n",
            "Epoch 23/30\n",
            "917/917 - 5s - loss: 1.6315e-04 - accuracy: 1.0000 - val_loss: 0.2682 - val_accuracy: 0.9568\n",
            "Epoch 24/30\n",
            "917/917 - 5s - loss: 5.1408e-05 - accuracy: 1.0000 - val_loss: 0.2685 - val_accuracy: 0.9570\n",
            "Epoch 25/30\n",
            "917/917 - 5s - loss: 1.0383e-04 - accuracy: 1.0000 - val_loss: 0.2741 - val_accuracy: 0.9573\n",
            "Epoch 26/30\n",
            "917/917 - 5s - loss: 2.0237e-04 - accuracy: 0.9999 - val_loss: 0.2866 - val_accuracy: 0.9564\n",
            "Epoch 27/30\n",
            "917/917 - 5s - loss: 4.3519e-05 - accuracy: 1.0000 - val_loss: 0.2978 - val_accuracy: 0.9545\n",
            "Epoch 28/30\n",
            "917/917 - 5s - loss: 4.2111e-05 - accuracy: 1.0000 - val_loss: 0.3017 - val_accuracy: 0.9551\n",
            "Epoch 29/30\n",
            "917/917 - 5s - loss: 1.2259e-05 - accuracy: 1.0000 - val_loss: 0.3036 - val_accuracy: 0.9553\n",
            "Epoch 30/30\n",
            "917/917 - 6s - loss: 9.8129e-06 - accuracy: 1.0000 - val_loss: 0.3054 - val_accuracy: 0.9553\n"
          ],
          "name": "stdout"
        }
      ]
    },
    {
      "cell_type": "code",
      "metadata": {
        "colab": {
          "base_uri": "https://localhost:8080/",
          "height": 544
        },
        "id": "7iwAL302HIAe",
        "outputId": "21ba11f5-c28d-45e1-8dff-1e6e8d03480e"
      },
      "source": [
        "def plot_graphs(history, string):\n",
        "  plt.plot(history.history[string])\n",
        "  plt.plot(history.history['val_'+string])\n",
        "  plt.xlabel(\"Epochs\")\n",
        "  plt.ylabel(string)\n",
        "  plt.legend([string, 'val_'+string])\n",
        "  plt.show()\n",
        "  \n",
        "plot_graphs(history, \"accuracy\")\n",
        "plot_graphs(history, \"loss\")"
      ],
      "execution_count": 40,
      "outputs": [
        {
          "output_type": "display_data",
          "data": {
            "image/png": "[encoded data removed]",
            "text/plain": [
              "<Figure size 432x288 with 1 Axes>"
            ]
          },
          "metadata": {
            "tags": [],
            "needs_background": "light"
          }
        },
        {
          "output_type": "display_data",
          "data": {
            "image/png": "[encoded data removed]",
            "text/plain": [
              "<Figure size 432x288 with 1 Axes>"
            ]
          },
          "metadata": {
            "tags": [],
            "needs_background": "light"
          }
        }
      ]
    },
    {
      "cell_type": "code",
      "metadata": {
        "colab": {
          "base_uri": "https://localhost:8080/",
          "height": 642
        },
        "id": "cNreAOa9k02h",
        "outputId": "e8cdcfe3-f0ff-422b-d848-eca13cdc6777"
      },
      "source": [
        "results = model.evaluate(X_test, y_test, verbose=0)\n",
        "#print(results)\n",
        "print(\"Accuracy: {:.2f}%\".format(results[1] * 100))\n",
        "\n",
        "y_pred = np.squeeze(model.predict(X_test) >= 0.5).astype(np.int)\n",
        "cm = confusion_matrix(y_test, y_pred, labels=[0, 1])\n",
        "clr = classification_report(y_test, y_pred, labels=[0, 1], target_names=[\"No Sarcasm\", \"Sarcasm\"])\n",
        "\n",
        "plt.figure(figsize=(6, 6))\n",
        "sns.heatmap(cm, annot=True, fmt='g', vmin=0, cmap='Blues', cbar=False)\n",
        "plt.xticks(ticks=[0.5, 1.5], labels=[\"No Sarcasm\", \"Sarcasm\"])\n",
        "plt.yticks(ticks=[0.5, 1.5], labels=[\"No Sarcasm\", \"Sarcasm\"])\n",
        "plt.xlabel(\"Predicted\")\n",
        "plt.ylabel(\"Actual\")\n",
        "plt.title(\"Confusion Matrix\")\n",
        "plt.show()\n",
        "\n",
        "print(\"Classification Report:\\n----------------------\\n\", clr)"
      ],
      "execution_count": 41,
      "outputs": [
        {
          "output_type": "stream",
          "text": [
            "Accuracy: 95.53%\n",
            "WARNING:tensorflow:Model was constructed with shape (None, 40) for input KerasTensor(type_spec=TensorSpec(shape=(None, 40), dtype=tf.float32, name='embedding_2_input'), name='embedding_2_input', description=\"created by layer 'embedding_2_input'\"), but it was called on an input with incompatible shape (None, 76).\n"
          ],
          "name": "stdout"
        },
        {
          "output_type": "display_data",
          "data": {
            "image/png": "[encoded data removed]",
            "text/plain": [
              "<Figure size 432x432 with 1 Axes>"
            ]
          },
          "metadata": {
            "tags": [],
            "needs_background": "light"
          }
        },
        {
          "output_type": "stream",
          "text": [
            "Classification Report:\n",
            "----------------------\n",
            "               precision    recall  f1-score   support\n",
            "\n",
            "  No Sarcasm       0.95      0.96      0.96      6341\n",
            "     Sarcasm       0.96      0.95      0.95      6222\n",
            "\n",
            "    accuracy                           0.96     12563\n",
            "   macro avg       0.96      0.96      0.96     12563\n",
            "weighted avg       0.96      0.96      0.96     12563\n",
            "\n"
          ],
          "name": "stdout"
        }
      ]
    },
    {
      "cell_type": "markdown",
      "metadata": {
        "id": "6BphOrJovbgb"
      },
      "source": [
        "#**VII. Dự đoán một tiêu đề bất kỳ**"
      ]
    },
    {
      "cell_type": "code",
      "metadata": {
        "id": "HWhP_z7QmQfG"
      },
      "source": [
        "class_names = ['Not sarcastic', 'Sarcastic']\n"
      ],
      "execution_count": 42,
      "outputs": []
    },
    {
      "cell_type": "code",
      "metadata": {
        "colab": {
          "base_uri": "https://localhost:8080/"
        },
        "id": "ozb6Cg9zGuzx",
        "outputId": "0cbb4afc-7478-4b83-d651-a5c9357e35bd"
      },
      "source": [
        "test = df[0:10]\n",
        "print(\"================= Bộ test ==================\")\n",
        "print(test[['headline', 'is_sarcastic']])\n",
        "result = test[['headline', 'is_sarcastic']]\n",
        "headline_test = test['headline']\n",
        "headline_label = test['is_sarcastic']\n",
        "#print(headline_test)\n",
        "tokenizer = tf.keras.preprocessing.text.Tokenizer()\n",
        "tokenizer.fit_on_texts(headline_test)\n",
        "\n",
        "headline_test = tokenizer.texts_to_sequences(headline_test)\n",
        "\n",
        "headline_test = pad_sequences(headline_test, maxlen=18, padding='post')\n",
        "headline_test\n",
        "output = model.predict(headline_test)\n",
        "pred = (output>0.5).astype('int64')\n",
        "result['result_predict'] = pred\n",
        "print(\"================= Kết quả sau khi predict ==================\")\n",
        "print(result)"
      ],
      "execution_count": 100,
      "outputs": [
        {
          "output_type": "stream",
          "text": [
            "================= Bộ test ==================\n",
            "                                            headline  is_sarcastic\n",
            "0  The ‘accidentally left-wing’ Twitter account s...             1\n",
            "1  We Interviewed the Wrong Dave Matthews but Now...             1\n",
            "2  We Ranked the Top 10 Amazing Things You Could ...             1\n",
            "3  Quebec provincial police searching for armed m...             0\n",
            "4  Plunging Costs Make Solar the Renewables Leade...             0\n",
            "5  Greta Thunberg’s takedown of Donald Trump was ...             1\n",
            "6  Local Hedonist Repairs Damage Done Over The We...             1\n",
            "7  Canadian health officials urge rally-goers to ...             0\n",
            "8  Trapt Issues “Start and Persist” Letter Urging...             1\n",
            "9  Ontario stay-at-home order; Biden takes aim at...             0\n",
            "================= Kết quả sau khi predict ==================\n",
            "                                            headline  ...  result_predict\n",
            "0  The ‘accidentally left-wing’ Twitter account s...  ...               1\n",
            "1  We Interviewed the Wrong Dave Matthews but Now...  ...               0\n",
            "2  We Ranked the Top 10 Amazing Things You Could ...  ...               1\n",
            "3  Quebec provincial police searching for armed m...  ...               0\n",
            "4  Plunging Costs Make Solar the Renewables Leade...  ...               0\n",
            "5  Greta Thunberg’s takedown of Donald Trump was ...  ...               1\n",
            "6  Local Hedonist Repairs Damage Done Over The We...  ...               0\n",
            "7  Canadian health officials urge rally-goers to ...  ...               1\n",
            "8  Trapt Issues “Start and Persist” Letter Urging...  ...               0\n",
            "9  Ontario stay-at-home order; Biden takes aim at...  ...               1\n",
            "\n",
            "[10 rows x 3 columns]\n"
          ],
          "name": "stdout"
        }
      ]
    },
    {
      "cell_type": "markdown",
      "metadata": {
        "id": "Bz0F5rFuwIJI"
      },
      "source": [
        "#**VIII. Nhận xét:**\n",
        " - Theo biểu đồ ở mục VII ta thấy accuracy là rất cao (95.53%) nên model sử dụng cho bài toán này là tốt\n",
        " - Sau khi chạy thử 10 tiêu đề cho kết quả đúng 6/10 "
      ]
    },
    {
      "cell_type": "markdown",
      "metadata": {
        "id": "ZBre8GGFwtC1"
      },
      "source": [
        "#**IX. Tài liệu tham khảo**\n",
        "- https://www.kaggle.com/gcdatkin/news-headline-sarcasm-detection\n",
        "- https://cainvas.ai-tech.systems/use-cases/sarcasm-detection-app-for-news-headlines/#Visualization"
      ]
    }
  ]
}
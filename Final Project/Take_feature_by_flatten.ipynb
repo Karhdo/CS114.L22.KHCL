{
  "nbformat": 4,
  "nbformat_minor": 0,
  "metadata": {
    "colab": {
      "name": "Take_feature_by_flatten.ipynb",
      "provenance": [],
      "collapsed_sections": [],
      "include_colab_link": true
    },
    "kernelspec": {
      "name": "python3",
      "display_name": "Python 3"
    },
    "language_info": {
      "name": "python"
    }
  },
  "cells": [
    {
      "cell_type": "markdown",
      "metadata": {
        "id": "view-in-github",
        "colab_type": "text"
      },
      "source": [
        "<a href=\"https://colab.research.google.com/github/trong-khanh-1109/CS114.L22.KHCL/blob/main/Take_feature_by_flatten.ipynb\" target=\"_parent\"><img src=\"https://colab.research.google.com/assets/colab-badge.svg\" alt=\"Open In Colab\"/></a>"
      ]
    },
    {
      "cell_type": "markdown",
      "metadata": {
        "id": "5XRdYrvEVmLX"
      },
      "source": [
        "#Flatten Vector"
      ]
    },
    {
      "cell_type": "code",
      "metadata": {
        "colab": {
          "base_uri": "https://localhost:8080/"
        },
        "id": "pHhFpoxjYMQJ",
        "outputId": "b80ccf00-bb0f-4b3e-a856-7adf178b3d98"
      },
      "source": [
        "from google.colab import drive\n",
        "drive.mount('/content/drive/')"
      ],
      "execution_count": 1,
      "outputs": [
        {
          "output_type": "stream",
          "text": [
            "Mounted at /content/drive/\n"
          ],
          "name": "stdout"
        }
      ]
    },
    {
      "cell_type": "code",
      "metadata": {
        "id": "HdE9cPIrZwW0"
      },
      "source": [
        "from PIL import Image, ImageChops\n",
        "import matplotlib.pyplot as plt\n",
        "import cv2\n",
        "import numpy as np\n",
        "from skimage.feature import hog\n",
        "import os\n",
        "import pandas as pd"
      ],
      "execution_count": 2,
      "outputs": []
    },
    {
      "cell_type": "code",
      "metadata": {
        "id": "ZcvDfFqrZ74p"
      },
      "source": [
        "FJoin = os.path.join"
      ],
      "execution_count": 3,
      "outputs": []
    },
    {
      "cell_type": "code",
      "metadata": {
        "id": "KeD_-yhAaN7w"
      },
      "source": [
        "# Lấy link và đánh số label cho từng ảnh\n",
        "def getLink(path):\n",
        "    ans = []\n",
        "    label = []\n",
        "    index = 0\n",
        "    list_folder = [FJoin(path, f) for f in sorted(os.listdir(path))]\n",
        "    for f in list_folder:\n",
        "        list_img = [FJoin(f, img_id) for img_id in sorted(os.listdir(f))]\n",
        "        for img_link in list_img:\n",
        "            ans.append(img_link)\n",
        "            label.append(index)\n",
        "        index += 1\n",
        "    return ans, label"
      ],
      "execution_count": 4,
      "outputs": []
    },
    {
      "cell_type": "code",
      "metadata": {
        "colab": {
          "base_uri": "https://localhost:8080/"
        },
        "id": "-JGdJfEya1BV",
        "outputId": "af9dc888-9009-4992-8cb4-274ba86f16dc"
      },
      "source": [
        "train_path = '/content/drive/MyDrive/Data_Final_Project/Train'\n",
        "vali_path = '/content/drive/MyDrive/Data_Final_Project/Validation'\n",
        "test_path = '/content/drive/MyDrive/Data_Final_Project/Test'\n",
        "link_train, label_train = getLink(train_path)\n",
        "link_vali, label_vali = getLink(vali_path)\n",
        "link_test, label_test = getLink(test_path)\n",
        "print(len(link_train))\n",
        "print(len(link_vali))\n",
        "print(len(link_test))"
      ],
      "execution_count": 5,
      "outputs": [
        {
          "output_type": "stream",
          "text": [
            "19278\n",
            "4863\n",
            "5384\n"
          ],
          "name": "stdout"
        }
      ]
    },
    {
      "cell_type": "code",
      "metadata": {
        "id": "Ui3HFpV72KFG"
      },
      "source": [
        "\n",
        "def Flatten_vector(link, label):\n",
        "    list_feature = []\n",
        "    for img_link in link:\n",
        "        img = cv2.imread(img_link, 0)\n",
        "        list_feature.append(np.asarray(img).ravel()) # Mỗi bức ảnh là một vector nhiều chiều nên sẽ đưa ma trận điểm ảnh \n",
        "                                                     # về vector 1 chiều để công việc lưu dữ liệu và training dễ dàng hơn\n",
        "    return np.array(list_feature), np.array(label)"
      ],
      "execution_count": 6,
      "outputs": []
    },
    {
      "cell_type": "code",
      "metadata": {
        "id": "-zTu1l8mYRzD"
      },
      "source": [
        "X_train, Y_train = Flatten_vector(link_train, label_train)"
      ],
      "execution_count": null,
      "outputs": []
    },
    {
      "cell_type": "code",
      "metadata": {
        "id": "t2ZNxZ8IY6E5",
        "colab": {
          "base_uri": "https://localhost:8080/"
        },
        "outputId": "70e1fd56-b105-424f-e49a-1b97042fe035"
      },
      "source": [
        "len(X_train)"
      ],
      "execution_count": null,
      "outputs": [
        {
          "output_type": "execute_result",
          "data": {
            "text/plain": [
              "19278"
            ]
          },
          "metadata": {
            "tags": []
          },
          "execution_count": 10
        }
      ]
    },
    {
      "cell_type": "code",
      "metadata": {
        "id": "JdapVM4MY9dT"
      },
      "source": [
        "pd.DataFrame(X_train).to_csv('/content/drive/MyDrive/Data_Final_Project/Save_Data_Vector_IMG/X_train_FL.csv', header= None, index=None)\n",
        "pd.DataFrame(Y_train).to_csv('/content/drive/MyDrive/Data_Final_Project/Save_Data_Vector_IMG/Y_train_FL.csv', header= None, index=None)"
      ],
      "execution_count": null,
      "outputs": []
    },
    {
      "cell_type": "code",
      "metadata": {
        "id": "UcaGCwHyZWdI"
      },
      "source": [
        "X_val, Y_val = Flatten_vector(link_vali, label_vali)"
      ],
      "execution_count": null,
      "outputs": []
    },
    {
      "cell_type": "code",
      "metadata": {
        "id": "mw73LLod6myE"
      },
      "source": [
        "pd.DataFrame(X_val).to_csv('/content/drive/MyDrive/Data_Final_Project/Save_Data_Vector_IMG/X_val_FL.csv', header= None, index=None)\n",
        "pd.DataFrame(Y_val).to_csv('/content/drive/MyDrive/Data_Final_Project/Save_Data_Vector_IMG/Y_val_FL.csv', header= None, index=None)"
      ],
      "execution_count": null,
      "outputs": []
    },
    {
      "cell_type": "code",
      "metadata": {
        "id": "FmQhGPOM18F-"
      },
      "source": [
        "X_test, Y_test = Flatten_vector(link_test, label_test)"
      ],
      "execution_count": null,
      "outputs": []
    },
    {
      "cell_type": "code",
      "metadata": {
        "id": "vaDbqzWv9GJ4"
      },
      "source": [
        "pd.DataFrame(X_test).to_csv('/content/drive/MyDrive/Data_Final_Project/Save_Data_Vector_IMG/X_test_FL.csv', header= None, index=None)\n",
        "pd.DataFrame(Y_test).to_csv('/content/drive/MyDrive/Data_Final_Project/Save_Data_Vector_IMG/Y_test_FL.csv', header= None, index=None)"
      ],
      "execution_count": null,
      "outputs": []
    }
  ]
}

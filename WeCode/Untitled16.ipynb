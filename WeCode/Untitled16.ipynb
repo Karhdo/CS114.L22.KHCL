{
  "nbformat": 4,
  "nbformat_minor": 0,
  "metadata": {
    "colab": {
      "name": "Untitled16.ipynb",
      "provenance": [],
      "include_colab_link": true
    },
    "kernelspec": {
      "name": "python3",
      "display_name": "Python 3"
    },
    "language_info": {
      "name": "python"
    }
  },
  "cells": [
    {
      "cell_type": "markdown",
      "metadata": {
        "id": "view-in-github",
        "colab_type": "text"
      },
      "source": [
        "<a href=\"https://colab.research.google.com/github/trong-khanh-1109/CS114.L22.KHCL/blob/main/Untitled16.ipynb\" target=\"_parent\"><img src=\"https://colab.research.google.com/assets/colab-badge.svg\" alt=\"Open In Colab\"/></a>"
      ]
    },
    {
      "cell_type": "code",
      "metadata": {
        "id": "Lj8BMjRl3SPX"
      },
      "source": [
        "def QuickSelect(left, right, a, k):\n",
        "  if (left == right):\n",
        "    return a[left]\n",
        " \n",
        "  #index = Partition(a, left, right)\n",
        "  if(left < right):\n",
        "    index = left -1\n",
        "    for j in range(left, right):\n",
        "      if (a[j] >= a[right]):\n",
        "        index += 1\n",
        "        a[index], a[j] = a[j], a[index]\n",
        " \n",
        "    a[index + 1], a[right] = a[right], a[index + 1]\n",
        "    index += 1\n",
        " \n",
        "    if (k == index):\n",
        "      return a[k]\n",
        "    if (k < index):\n",
        "      return QuickSelect(left, index-1, a, k)\n",
        "    return QuickSelect(index+1, right, a, k)  \n",
        "def kth_element_qs_Quang(arr, k):\n",
        "  return QuickSelect(0,len(arr)-1,arr, k-1)  "
      ],
      "execution_count": null,
      "outputs": []
    },
    {
      "cell_type": "code",
      "metadata": {
        "id": "XFQZjy1A4GmS"
      },
      "source": [
        ""
      ],
      "execution_count": null,
      "outputs": []
    },
    {
      "cell_type": "code",
      "metadata": {
        "id": "9p1op1Az2659"
      },
      "source": [
        "def kth_element_sort(arr, k):\n",
        "  arr.sort()\n",
        "  return arr[len(arr)-k]"
      ],
      "execution_count": null,
      "outputs": []
    },
    {
      "cell_type": "code",
      "metadata": {
        "id": "WwKL8HXt4e-K"
      },
      "source": [
        "for j in range(1, 40):\n",
        "  a=[i for i in range(2**j)]\n",
        "  import random\n",
        "  random.shuffle(a)\n",
        "  k = random.randint(0, len(a)-1)\n",
        "  #print(a[:])\n",
        "  import cProfile\n",
        "  print(\"Kich thuoc mang dang la \", len(a), \" k = \", k)\n",
        "  cProfile.run(\"kth_element_sort(a[:], k)\")\n",
        "  #print(a[:])\n",
        "  #cProfile.run(\"kth_element_qs_Quang(a[:], k)\")"
      ],
      "execution_count": null,
      "outputs": []
    },
    {
      "cell_type": "code",
      "metadata": {
        "colab": {
          "base_uri": "https://localhost:8080/"
        },
        "id": "vsaQM7PyGaHG",
        "outputId": "e2dd12bc-72c2-44ce-b3e9-8ea468e72046"
      },
      "source": [
        "for j in range(1, 40):\n",
        "  a=[i for i in range(2**j)]\n",
        "  import random\n",
        "  random.shuffle(a)\n",
        "  k = random.randint(1, len(a)-1)\n",
        "  #print(a[:])\n",
        "  import timeit\n",
        "  print(\"Kich thuoc mang dang la \", len(a), \" k = \", k)\n",
        "  #time =  kth_element_sort(a[:], k)\n",
        "  #print(a[:])\n",
        "  %timeit kth_element_qs_Quang(a[:], k)"
      ],
      "execution_count": null,
      "outputs": [
        {
          "output_type": "stream",
          "text": [
            "Kich thuoc mang dang la  2  k =  1\n",
            "The slowest run took 7.77 times longer than the fastest. This could mean that an intermediate result is being cached.\n",
            "1000000 loops, best of 5: 1.36 µs per loop\n",
            "Kich thuoc mang dang la  4  k =  1\n",
            "The slowest run took 4.39 times longer than the fastest. This could mean that an intermediate result is being cached.\n",
            "1000000 loops, best of 5: 1.2 µs per loop\n",
            "Kich thuoc mang dang la  8  k =  4\n",
            "100000 loops, best of 5: 6.83 µs per loop\n",
            "Kich thuoc mang dang la  16  k =  12\n",
            "100000 loops, best of 5: 12.3 µs per loop\n",
            "Kich thuoc mang dang la  32  k =  23\n",
            "10000 loops, best of 5: 18.4 µs per loop\n",
            "Kich thuoc mang dang la  64  k =  61\n",
            "10000 loops, best of 5: 32.6 µs per loop\n",
            "Kich thuoc mang dang la  128  k =  15\n",
            "10000 loops, best of 5: 48.4 µs per loop\n",
            "Kich thuoc mang dang la  256  k =  21\n",
            "10000 loops, best of 5: 60.2 µs per loop\n",
            "Kich thuoc mang dang la  512  k =  305\n",
            "1000 loops, best of 5: 237 µs per loop\n",
            "Kich thuoc mang dang la  1024  k =  127\n",
            "1000 loops, best of 5: 215 µs per loop\n",
            "Kich thuoc mang dang la  2048  k =  412\n",
            "1000 loops, best of 5: 602 µs per loop\n",
            "Kich thuoc mang dang la  4096  k =  3777\n",
            "1000 loops, best of 5: 1.85 ms per loop\n",
            "Kich thuoc mang dang la  8192  k =  2732\n",
            "100 loops, best of 5: 3.26 ms per loop\n",
            "Kich thuoc mang dang la  16384  k =  5260\n",
            "100 loops, best of 5: 5.99 ms per loop\n",
            "Kich thuoc mang dang la  32768  k =  28599\n",
            "100 loops, best of 5: 11.9 ms per loop\n",
            "Kich thuoc mang dang la  65536  k =  619\n",
            "10 loops, best of 5: 23.3 ms per loop\n",
            "Kich thuoc mang dang la  131072  k =  56215\n",
            "10 loops, best of 5: 118 ms per loop\n",
            "Kich thuoc mang dang la  262144  k =  45197\n",
            "10 loops, best of 5: 194 ms per loop\n",
            "Kich thuoc mang dang la  524288  k =  281271\n",
            "1 loop, best of 5: 308 ms per loop\n",
            "Kich thuoc mang dang la  1048576  k =  743966\n",
            "1 loop, best of 5: 759 ms per loop\n",
            "Kich thuoc mang dang la  2097152  k =  449110\n",
            "1 loop, best of 5: 3.36 s per loop\n",
            "Kich thuoc mang dang la  4194304  k =  3422529\n",
            "1 loop, best of 5: 7.32 s per loop\n",
            "Kich thuoc mang dang la  8388608  k =  5371555\n",
            "1 loop, best of 5: 15.5 s per loop\n"
          ],
          "name": "stdout"
        }
      ]
    }
  ]
}

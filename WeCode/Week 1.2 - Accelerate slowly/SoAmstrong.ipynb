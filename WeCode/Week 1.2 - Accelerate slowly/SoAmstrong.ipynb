{
  "nbformat": 4,
  "nbformat_minor": 0,
  "metadata": {
    "colab": {
      "name": "SoAmstrong.ipynb",
      "provenance": [],
      "collapsed_sections": [],
      "authorship_tag": "ABX9TyNEame6vFCCj4+26zYOJQmC",
      "include_colab_link": true
    },
    "kernelspec": {
      "name": "python3",
      "display_name": "Python 3"
    },
    "language_info": {
      "name": "python"
    }
  },
  "cells": [
    {
      "cell_type": "markdown",
      "metadata": {
        "id": "view-in-github",
        "colab_type": "text"
      },
      "source": [
        "<a href=\"https://colab.research.google.com/github/trong-khanh-1109/CS114.L22.KHCL/blob/main/SoAmstrong.ipynb\" target=\"_parent\"><img src=\"https://colab.research.google.com/assets/colab-badge.svg\" alt=\"Open In Colab\"/></a>"
      ]
    },
    {
      "cell_type": "markdown",
      "metadata": {
        "id": "1IaWfdPpPLbm"
      },
      "source": [
        "#- Tên bài: Số amstrong\n",
        "#- Đề bài:\n",
        "+ Kiểm tra Số Armstrong (Số Armstrong là số có <strong>*K*</strong> chữ số và tổng lũy thừa bậc <strong>*K*</strong> của các chữ số bằng chính nó)\n",
        "\n",
        "#- Input: \n",
        "+ Một số nguyên không âm\n",
        "\n",
        "#- Output:\n",
        "+ Xuất <strong>True</strong> nếu số nhập vào là số Armstrong, ngược lại <strong>False</strong>\n",
        "\n",
        "#- Ví dụ:\n",
        "|INPUT|OUTPUT|\n",
        "|:---:|:----:|\n",
        "|153  |True  |\n",
        "\n",
        "#- Ý tưởng:\n",
        "+ Đầu tiên sẽ tìm k phần tử của số nguyên không âm, sau đó tính tổng lũy thừa k của k chữ số của số đó. Nếu tổng bằng số nguyên không âm thì True và ngược lại.\n",
        "\n",
        "#- Code:\n"
      ]
    },
    {
      "cell_type": "code",
      "metadata": {
        "id": "gzHqMwsIUxJL"
      },
      "source": [
        "#This code is contributed by Vo Pham Duy Duc\n",
        "x = int(input())\n",
        "y = x\n",
        "dem = 0\n",
        "while(y != 0):\n",
        "    dem += 1\n",
        "    y //= 10\n",
        "y = x\n",
        "S = 0\n",
        "while(y != 0):\n",
        "    S += (y % 10) ** dem\n",
        "    y //= 10\n",
        "if S == x:\n",
        "    print('True')\n",
        "else:\n",
        "    print('False')"
      ],
      "execution_count": null,
      "outputs": []
    }
  ]
}

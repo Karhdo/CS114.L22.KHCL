{
  "nbformat": 4,
  "nbformat_minor": 0,
  "metadata": {
    "colab": {
      "name": "Colab_02.ipynb",
      "provenance": [],
      "collapsed_sections": []
    },
    "kernelspec": {
      "name": "python3",
      "display_name": "Python 3"
    },
    "language_info": {
      "name": "python"
    }
  },
  "cells": [
    {
      "cell_type": "markdown",
      "metadata": {
        "id": "gLFe_OFDlpxm"
      },
      "source": [
        "<h1 align=\"center\"><b> Assignment Colab_02 </b></h1>\n",
        "<h1 align=\"center\"><b> PREDICT EXECUTION TIME OF A PROGRAM WITH GIVEN THE NUMBERS OF INPUT </b></h1>\n",
        "\n",
        "**Thành viên nhóm:**\n",
        "* Đỗ Trọng Khánh - 19521676\n",
        "* Võ Phạm Duy Đức - 19521383\n",
        "* Trịnh Công Danh - 19521326\n",
        "\n",
        "**Nguồn tham khảo:**\n",
        "* [LinearRegression](https://scikit-learn.org/stable/modules/generated/sklearn.linear_model.LinearRegression.html?highlight=regression#sklearn.linear_model.LinearRegression)\n",
        "* [Linear Regression Exampale](https://scikit-learn.org/stable/auto_examples/linear_model/plot_ols.html)"
      ]
    },
    {
      "cell_type": "markdown",
      "metadata": {
        "id": "SmcXb5l9mJdr"
      },
      "source": [
        "# Xử lí dữ liệu"
      ]
    },
    {
      "cell_type": "code",
      "metadata": {
        "id": "zouQsuiJmanw"
      },
      "source": [
        "import pandas as pd\n",
        "import numpy as np\n",
        "import matplotlib.pyplot as plt"
      ],
      "execution_count": 28,
      "outputs": []
    },
    {
      "cell_type": "markdown",
      "metadata": {
        "id": "rfgl86nGJEls"
      },
      "source": [
        "# Lấy dữ liệu train và dữ liệu test"
      ]
    },
    {
      "cell_type": "code",
      "metadata": {
        "id": "DG-hhbw4oi4s",
        "colab": {
          "base_uri": "https://localhost:8080/",
          "height": 419
        },
        "outputId": "6b866d10-ec1f-457d-92bf-122f9bf8dbac"
      },
      "source": [
        "# Dữ liệu train từ data2.csv\n",
        "data_train = pd.read_csv(\"http://cs.uit.edu.vn/data2.txt\", header=None, names = ['x', 'y'])\n",
        "# Dữ liệu test từ data3.csv\n",
        "data_test = pd.read_csv(\"https://cs.uit.edu.vn/data3.txt\", header=None, names = ['x', 'y'])\n",
        "data_train\n",
        "#data_test"
      ],
      "execution_count": 29,
      "outputs": [
        {
          "output_type": "execute_result",
          "data": {
            "text/html": [
              "<div>\n",
              "<style scoped>\n",
              "    .dataframe tbody tr th:only-of-type {\n",
              "        vertical-align: middle;\n",
              "    }\n",
              "\n",
              "    .dataframe tbody tr th {\n",
              "        vertical-align: top;\n",
              "    }\n",
              "\n",
              "    .dataframe thead th {\n",
              "        text-align: right;\n",
              "    }\n",
              "</style>\n",
              "<table border=\"1\" class=\"dataframe\">\n",
              "  <thead>\n",
              "    <tr style=\"text-align: right;\">\n",
              "      <th></th>\n",
              "      <th>x</th>\n",
              "      <th>y</th>\n",
              "    </tr>\n",
              "  </thead>\n",
              "  <tbody>\n",
              "    <tr>\n",
              "      <th>0</th>\n",
              "      <td>6083695</td>\n",
              "      <td>0.521842</td>\n",
              "    </tr>\n",
              "    <tr>\n",
              "      <th>1</th>\n",
              "      <td>1954367</td>\n",
              "      <td>0.152648</td>\n",
              "    </tr>\n",
              "    <tr>\n",
              "      <th>2</th>\n",
              "      <td>3734185</td>\n",
              "      <td>0.298548</td>\n",
              "    </tr>\n",
              "    <tr>\n",
              "      <th>3</th>\n",
              "      <td>5839301</td>\n",
              "      <td>0.460480</td>\n",
              "    </tr>\n",
              "    <tr>\n",
              "      <th>4</th>\n",
              "      <td>6343427</td>\n",
              "      <td>0.527977</td>\n",
              "    </tr>\n",
              "    <tr>\n",
              "      <th>...</th>\n",
              "      <td>...</td>\n",
              "      <td>...</td>\n",
              "    </tr>\n",
              "    <tr>\n",
              "      <th>71110</th>\n",
              "      <td>4472112</td>\n",
              "      <td>0.350379</td>\n",
              "    </tr>\n",
              "    <tr>\n",
              "      <th>71111</th>\n",
              "      <td>5471895</td>\n",
              "      <td>0.429955</td>\n",
              "    </tr>\n",
              "    <tr>\n",
              "      <th>71112</th>\n",
              "      <td>9837364</td>\n",
              "      <td>0.801394</td>\n",
              "    </tr>\n",
              "    <tr>\n",
              "      <th>71113</th>\n",
              "      <td>9466593</td>\n",
              "      <td>0.776407</td>\n",
              "    </tr>\n",
              "    <tr>\n",
              "      <th>71114</th>\n",
              "      <td>4080801</td>\n",
              "      <td>0.314468</td>\n",
              "    </tr>\n",
              "  </tbody>\n",
              "</table>\n",
              "<p>71115 rows × 2 columns</p>\n",
              "</div>"
            ],
            "text/plain": [
              "             x         y\n",
              "0      6083695  0.521842\n",
              "1      1954367  0.152648\n",
              "2      3734185  0.298548\n",
              "3      5839301  0.460480\n",
              "4      6343427  0.527977\n",
              "...        ...       ...\n",
              "71110  4472112  0.350379\n",
              "71111  5471895  0.429955\n",
              "71112  9837364  0.801394\n",
              "71113  9466593  0.776407\n",
              "71114  4080801  0.314468\n",
              "\n",
              "[71115 rows x 2 columns]"
            ]
          },
          "metadata": {
            "tags": []
          },
          "execution_count": 29
        }
      ]
    },
    {
      "cell_type": "markdown",
      "metadata": {
        "id": "AbifXGE7KCUf"
      },
      "source": [
        "#Phân chia dữ liệu"
      ]
    },
    {
      "cell_type": "code",
      "metadata": {
        "id": "zzZ3GDxNKMkc"
      },
      "source": [
        "# Tập train\n",
        "x_train, y_train = np.array(data_train['x']).reshape(-1,1), np.array(data_train['y'])\n",
        "# Tập test\n",
        "x_test, y_test = np.array(data_test['x']).reshape(-1,1), np.array(data_test['y'])"
      ],
      "execution_count": 30,
      "outputs": []
    },
    {
      "cell_type": "markdown",
      "metadata": {
        "id": "W1RKfb9EKmJq"
      },
      "source": [
        "#Trực quan hóa dữ liệu train "
      ]
    },
    {
      "cell_type": "code",
      "metadata": {
        "colab": {
          "base_uri": "https://localhost:8080/",
          "height": 283
        },
        "id": "kw5jpebWuIAa",
        "outputId": "04ef0ea1-354a-4645-a428-41c1f8f1ec79"
      },
      "source": [
        "plt.plot(x_train, y_train, '.')\n",
        "plt.xlabel('Numbers of input')\n",
        "plt.ylabel('Execution time')\n",
        "plt.axis([0, 7000000, 0, 1])\n",
        "plt.show()"
      ],
      "execution_count": 31,
      "outputs": [
        {
          "output_type": "display_data",
          "data": {
            "image/png": "[encoded data removed]",
            "text/plain": [
              "<Figure size 432x288 with 1 Axes>"
            ]
          },
          "metadata": {
            "tags": [],
            "needs_background": "light"
          }
        }
      ]
    },
    {
      "cell_type": "markdown",
      "metadata": {
        "id": "WHUzOYlIKqdx"
      },
      "source": [
        "# Sử dụng phương pháp Linear Regression"
      ]
    },
    {
      "cell_type": "code",
      "metadata": {
        "id": "pbh4etv-uQKe"
      },
      "source": [
        "from sklearn.model_selection import train_test_split\n",
        "from sklearn.linear_model import LinearRegression\n",
        "from sklearn.metrics import mean_squared_error\n",
        "import math\n",
        "\n",
        "# Tạo model train\n",
        "model_train = LinearRegression().fit(x_train, y_train)"
      ],
      "execution_count": 32,
      "outputs": []
    },
    {
      "cell_type": "code",
      "metadata": {
        "colab": {
          "base_uri": "https://localhost:8080/",
          "height": 312
        },
        "id": "fgyLmaJ-vQU5",
        "outputId": "a46a324d-7449-4bfd-a8de-73f4b83f28e3"
      },
      "source": [
        "# Mean squared error of data train\n",
        "print(\"Mean squared error with data_to_train: \", mean_squared_error(y_train, model_train.predict(x_train)))\n",
        "\n",
        "plt.title(\"Display data traning\")\n",
        "plt.plot(x_train, y_train, \".\")\n",
        "plt.plot(x_train, model_train.predict(x_train))\n",
        "plt.xlabel('Numbers of Input')\n",
        "plt.ylabel('Excecution time')\n",
        "plt.show()"
      ],
      "execution_count": 33,
      "outputs": [
        {
          "output_type": "stream",
          "text": [
            "Mean squared error with data_to_train:  0.00014337728721748835\n"
          ],
          "name": "stdout"
        },
        {
          "output_type": "display_data",
          "data": {
            "image/png": "[encoded data removed]",
            "text/plain": [
              "<Figure size 432x288 with 1 Axes>"
            ]
          },
          "metadata": {
            "tags": [],
            "needs_background": "light"
          }
        }
      ]
    },
    {
      "cell_type": "code",
      "metadata": {
        "colab": {
          "base_uri": "https://localhost:8080/",
          "height": 312
        },
        "id": "ThCYXZLywo1T",
        "outputId": "aa496461-a933-472e-a00b-46add7caab38"
      },
      "source": [
        "# Mean squared error of data test\n",
        "print(\"Mean squared error of data_to_test: \", mean_squared_error(y_test, model_train.predict(x_test)))\n",
        "\n",
        "plt.title(\"Display data test\")\n",
        "plt.plot(x_test, y_test, \".\")\n",
        "plt.plot(x_test, model_train.predict(x_test))\n",
        "plt.xlabel('Numbers of Input')\n",
        "plt.ylabel('Excecution time')\n",
        "plt.show()"
      ],
      "execution_count": 34,
      "outputs": [
        {
          "output_type": "stream",
          "text": [
            "Mean squared error of data_to_test:  0.020664949397549082\n"
          ],
          "name": "stdout"
        },
        {
          "output_type": "display_data",
          "data": {
            "image/png": "[encoded data removed]",
            "text/plain": [
              "<Figure size 432x288 with 1 Axes>"
            ]
          },
          "metadata": {
            "tags": [],
            "needs_background": "light"
          }
        }
      ]
    },
    {
      "cell_type": "code",
      "metadata": {
        "colab": {
          "base_uri": "https://localhost:8080/"
        },
        "id": "eDPSQPAIzTxs",
        "outputId": "e1aa1efb-2f2e-4ea6-b52e-a2c37c45d776"
      },
      "source": [
        "# Trung bình cộng của thời gian chạy của dữ liệu test\n",
        "print(\"Average of data test:\" , np.average(y_test))\n",
        "# Mean squared error of data test\n",
        "MSE = mean_squared_error(y_test, model_train.predict(x_test))\n",
        "print(\"Mean squared error:\" ,MSE)\n",
        "\n",
        "sqrt_MSE = math.sqrt(MSE)\n",
        "print(\"Square root MSE:\", sqrt_MSE)\n",
        "\n",
        "print(\"Percent difference:\", sqrt_MSE/np.average(y_test))"
      ],
      "execution_count": 40,
      "outputs": [
        {
          "output_type": "stream",
          "text": [
            "Average of data test: 2.642811968838527\n",
            "Mean squared error: 0.020664949397549082\n",
            "Square root MSE: 0.14375308482794058\n",
            "Percent difference: 0.05439398887357004\n"
          ],
          "name": "stdout"
        }
      ]
    },
    {
      "cell_type": "markdown",
      "metadata": {
        "id": "k6OLAWmBw3it"
      },
      "source": [
        "#Nhận xét "
      ]
    },
    {
      "cell_type": "markdown",
      "metadata": {
        "id": "gRTrdTeXu4CG"
      },
      "source": [
        "- Vì thời gian chạy của chương trình phải phụ thuộc vào độ phức tạp của thuật toán đó nên độ phức tạp của thuật toán làm chi phối thời gian chạy của chương trìnhình\n",
        "- Vì thế thời gian chạy của thuật toán và kích thước của của Input đầu vào chưa chắc nó sẽ là một hàm tuyến tính nên khi chung ta tìm được hệ số y = ax + b tốt đến cỡ nào đi nữa thì khi nó gặp **x** có giá trị lớn hơn thì sẽ xuất hiện sai lệch (Được thể hiện ở Percent difference: 5% được tính ở trên)\n",
        "- Chênh lệch 5% là một con tốt đối với modle sử dụng Linear Regression nhưng khi Input đầu vào là một con số lơn sẽ kiến độ sai lệch của modle càng nhiều\n"
      ]
    },
    {
      "cell_type": "markdown",
      "metadata": {
        "id": "HKa-vu-uBMFu"
      },
      "source": [
        "# Sử dụng phương pháp Linear Regression nhiều biến\n",
        "\n",
        "- Sử dụng phương pháp tăng cường dữ liệu: **y = a*x + b* x^2 + c * lg(x) + d *x *lg(x) + e**\n",
        "\n",
        "* Tăng cường dữ liệu ở đây có nghĩa là thêm số chiều vào trong dữ liệu của mình"
      ]
    },
    {
      "cell_type": "code",
      "metadata": {
        "id": "oPXc-UQ7Ch6J"
      },
      "source": [
        "X = []\n",
        "x_train = data_train['x']\n",
        "for x in x_train:\n",
        "  X.append([x, x**2, x*np.log(x), np.log(x)])"
      ],
      "execution_count": 42,
      "outputs": []
    },
    {
      "cell_type": "code",
      "metadata": {
        "id": "PFRJ-UdgDhtX"
      },
      "source": [
        "new_model_train = LinearRegression().fit(X, y_train)"
      ],
      "execution_count": 43,
      "outputs": []
    },
    {
      "cell_type": "code",
      "metadata": {
        "id": "WDNQXUITDsuE"
      },
      "source": [
        "X_test = []\n",
        "x_test = data_test['x']\n",
        "for x in x_test:\n",
        "  X_test.append([x, x**2, x*np.log(x), np.log(x)])"
      ],
      "execution_count": 44,
      "outputs": []
    },
    {
      "cell_type": "code",
      "metadata": {
        "colab": {
          "base_uri": "https://localhost:8080/"
        },
        "id": "5W25w3CGFUBJ",
        "outputId": "4866b30e-c750-4a18-f895-f2897a6e8aec"
      },
      "source": [
        "# Trung bình cộng của thời gian chạy của dữ liệu test\n",
        "print(\"Average of data test:\" , np.average(y_test))\n",
        "# Mean squared error of data test\n",
        "MSE = mean_squared_error(y_test, new_model_train.predict(X_test))\n",
        "print(\"Mean squared error new model:\" ,MSE)\n",
        "\n",
        "sqrt_MSE = math.sqrt(MSE)\n",
        "print(\"Square root MSE:\", sqrt_MSE)\n",
        "\n",
        "print(\"Percent difference:\", sqrt_MSE/np.average(y_test))"
      ],
      "execution_count": 47,
      "outputs": [
        {
          "output_type": "stream",
          "text": [
            "Average of data test: 2.642811968838527\n",
            "Mean squared error new model: 0.004181195754594616\n",
            "Square root MSE: 0.06466216633081988\n",
            "Percent difference: 0.02446718385312817\n"
          ],
          "name": "stdout"
        }
      ]
    },
    {
      "cell_type": "markdown",
      "metadata": {
        "id": "7pNIoma_xJCL"
      },
      "source": [
        "#Nhận xét"
      ]
    },
    {
      "cell_type": "markdown",
      "metadata": {
        "id": "Hlf5lkJKxMf1"
      },
      "source": [
        "- Ta thấy được Mean squared error của model sử dụng Linear Regression nhiều biến nhỏ hơn 5 lần so với model sủ dụng Linear Regression 1 biến là: **0.004181195754594616**\n",
        "- Và độ chênh lệch giảm còn **2%** (Percent difference: 0.02446718385312817)"
      ]
    }
  ]
}
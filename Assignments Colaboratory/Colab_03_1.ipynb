{
  "nbformat": 4,
  "nbformat_minor": 0,
  "metadata": {
    "colab": {
      "name": "Build_scatter_plot.ipynb",
      "provenance": [],
      "collapsed_sections": [],
      "authorship_tag": "ABX9TyMkqnkpOQ+uZtz3XY6tlok7",
      "include_colab_link": true
    },
    "kernelspec": {
      "name": "python3",
      "display_name": "Python 3"
    },
    "language_info": {
      "name": "python"
    }
  },
  "cells": [
    {
      "cell_type": "markdown",
      "metadata": {
        "id": "view-in-github",
        "colab_type": "text"
      },
      "source": [
        "<a href=\"https://colab.research.google.com/github/trong-khanh-1109/CS114.L22.KHCL/blob/main/Build_scatter_plot.ipynb\" target=\"_parent\"><img src=\"https://colab.research.google.com/assets/colab-badge.svg\" alt=\"Open In Colab\"/></a>"
      ]
    },
    {
      "cell_type": "markdown",
      "metadata": {
        "id": "6UaFo3t5l-zl"
      },
      "source": [
        "<h1 align=\"center\"><b>BÀI TẬP COLAB SỐ 03 - 17/05/2021</b></h1>\n",
        "<h1 align=\"center\"><b>PREDICT FINAL SCORE OF IT001</b></h1>\n",
        "\n",
        "###LỚP: CS114.L22.KHCL\n",
        "###NHÓM:\n",
        "1. Đỗ Trọng Khánh - *19521676*\n",
        "2. Võ Phạm Duy Đức - *19521383*\n",
        "3. Trịnh Công Danh - *19521326*"
      ]
    },
    {
      "cell_type": "code",
      "metadata": {
        "colab": {
          "base_uri": "https://localhost:8080/"
        },
        "id": "yggmL6TUvyoQ",
        "outputId": "60ad9092-9d4e-438d-968a-7faa95f4c610"
      },
      "source": [
        "from google.colab import drive\n",
        "import pandas as pd\n",
        "drive.mount('/content/drive')"
      ],
      "execution_count": 2,
      "outputs": [
        {
          "output_type": "stream",
          "text": [
            "Mounted at /content/drive\n"
          ],
          "name": "stdout"
        }
      ]
    },
    {
      "cell_type": "code",
      "metadata": {
        "colab": {
          "base_uri": "https://localhost:8080/",
          "height": 195
        },
        "id": "9zoEfKYxv19H",
        "outputId": "4a99ad1a-600c-4e7d-a44d-ca9c47b19ef4"
      },
      "source": [
        "data_wecode = pd.read_csv('/content/drive/My Drive/21-5-2021/wecode.csv')\n",
        "data_score_training = pd.read_csv('/content/drive/My Drive/21-5-2021/score_training.csv')\n",
        "data_wecode.head()"
      ],
      "execution_count": 3,
      "outputs": [
        {
          "output_type": "execute_result",
          "data": {
            "text/html": [
              "<div>\n",
              "<style scoped>\n",
              "    .dataframe tbody tr th:only-of-type {\n",
              "        vertical-align: middle;\n",
              "    }\n",
              "\n",
              "    .dataframe tbody tr th {\n",
              "        vertical-align: top;\n",
              "    }\n",
              "\n",
              "    .dataframe thead th {\n",
              "        text-align: right;\n",
              "    }\n",
              "</style>\n",
              "<table border=\"1\" class=\"dataframe\">\n",
              "  <thead>\n",
              "    <tr style=\"text-align: right;\">\n",
              "      <th></th>\n",
              "      <th>id</th>\n",
              "      <th>assignment_id</th>\n",
              "      <th>problem_id</th>\n",
              "      <th>user_id</th>\n",
              "      <th>is_final</th>\n",
              "      <th>status</th>\n",
              "      <th>pre_score</th>\n",
              "      <th>coefficient</th>\n",
              "      <th>file_name</th>\n",
              "      <th>language_id</th>\n",
              "      <th>created_at</th>\n",
              "      <th>updated_at</th>\n",
              "    </tr>\n",
              "  </thead>\n",
              "  <tbody>\n",
              "    <tr>\n",
              "      <th>0</th>\n",
              "      <td>4</td>\n",
              "      <td>0</td>\n",
              "      <td>3</td>\n",
              "      <td>4</td>\n",
              "      <td>1</td>\n",
              "      <td>SCORE</td>\n",
              "      <td>10000</td>\n",
              "      <td>100</td>\n",
              "      <td>solution-0</td>\n",
              "      <td>2</td>\n",
              "      <td>2020-10-30 10:58:11</td>\n",
              "      <td>2020-10-30 10:58:19</td>\n",
              "    </tr>\n",
              "    <tr>\n",
              "      <th>1</th>\n",
              "      <td>5</td>\n",
              "      <td>0</td>\n",
              "      <td>4</td>\n",
              "      <td>4</td>\n",
              "      <td>1</td>\n",
              "      <td>SCORE</td>\n",
              "      <td>10000</td>\n",
              "      <td>100</td>\n",
              "      <td>solution-1</td>\n",
              "      <td>2</td>\n",
              "      <td>2020-10-30 11:07:09</td>\n",
              "      <td>2020-10-30 11:07:17</td>\n",
              "    </tr>\n",
              "    <tr>\n",
              "      <th>2</th>\n",
              "      <td>6</td>\n",
              "      <td>0</td>\n",
              "      <td>5</td>\n",
              "      <td>4</td>\n",
              "      <td>0</td>\n",
              "      <td>Compilation Error</td>\n",
              "      <td>0</td>\n",
              "      <td>100</td>\n",
              "      <td>solution-2</td>\n",
              "      <td>2</td>\n",
              "      <td>2020-10-30 11:08:01</td>\n",
              "      <td>2020-10-30 11:23:36</td>\n",
              "    </tr>\n",
              "    <tr>\n",
              "      <th>3</th>\n",
              "      <td>7</td>\n",
              "      <td>0</td>\n",
              "      <td>5</td>\n",
              "      <td>4</td>\n",
              "      <td>0</td>\n",
              "      <td>Compilation Error</td>\n",
              "      <td>0</td>\n",
              "      <td>100</td>\n",
              "      <td>solution-3</td>\n",
              "      <td>2</td>\n",
              "      <td>2020-10-30 11:11:41</td>\n",
              "      <td>2020-10-30 11:11:42</td>\n",
              "    </tr>\n",
              "    <tr>\n",
              "      <th>4</th>\n",
              "      <td>8</td>\n",
              "      <td>0</td>\n",
              "      <td>5</td>\n",
              "      <td>4</td>\n",
              "      <td>0</td>\n",
              "      <td>Compilation Error</td>\n",
              "      <td>0</td>\n",
              "      <td>100</td>\n",
              "      <td>solution-4</td>\n",
              "      <td>2</td>\n",
              "      <td>2020-10-30 11:15:06</td>\n",
              "      <td>2020-10-30 11:15:07</td>\n",
              "    </tr>\n",
              "  </tbody>\n",
              "</table>\n",
              "</div>"
            ],
            "text/plain": [
              "   id  assignment_id  ...           created_at           updated_at\n",
              "0   4              0  ...  2020-10-30 10:58:11  2020-10-30 10:58:19\n",
              "1   5              0  ...  2020-10-30 11:07:09  2020-10-30 11:07:17\n",
              "2   6              0  ...  2020-10-30 11:08:01  2020-10-30 11:23:36\n",
              "3   7              0  ...  2020-10-30 11:11:41  2020-10-30 11:11:42\n",
              "4   8              0  ...  2020-10-30 11:15:06  2020-10-30 11:15:07\n",
              "\n",
              "[5 rows x 12 columns]"
            ]
          },
          "metadata": {
            "tags": []
          },
          "execution_count": 3
        }
      ]
    },
    {
      "cell_type": "code",
      "metadata": {
        "colab": {
          "base_uri": "https://localhost:8080/",
          "height": 195
        },
        "id": "UQiUMjVTzIoI",
        "outputId": "d4e6a46b-0c9a-4a7b-db64-3a8b4eab6aa9"
      },
      "source": [
        "data_score_training.head()"
      ],
      "execution_count": 4,
      "outputs": [
        {
          "output_type": "execute_result",
          "data": {
            "text/html": [
              "<div>\n",
              "<style scoped>\n",
              "    .dataframe tbody tr th:only-of-type {\n",
              "        vertical-align: middle;\n",
              "    }\n",
              "\n",
              "    .dataframe tbody tr th {\n",
              "        vertical-align: top;\n",
              "    }\n",
              "\n",
              "    .dataframe thead th {\n",
              "        text-align: right;\n",
              "    }\n",
              "</style>\n",
              "<table border=\"1\" class=\"dataframe\">\n",
              "  <thead>\n",
              "    <tr style=\"text-align: right;\">\n",
              "      <th></th>\n",
              "      <th>id</th>\n",
              "      <th>QT</th>\n",
              "      <th>GK</th>\n",
              "      <th>TH</th>\n",
              "      <th>CK</th>\n",
              "      <th>TBM</th>\n",
              "      <th>TBTL</th>\n",
              "    </tr>\n",
              "  </thead>\n",
              "  <tbody>\n",
              "    <tr>\n",
              "      <th>0</th>\n",
              "      <td>22</td>\n",
              "      <td>10</td>\n",
              "      <td>9</td>\n",
              "      <td>8.5</td>\n",
              "      <td>8.5</td>\n",
              "      <td>8.8</td>\n",
              "      <td>8.52</td>\n",
              "    </tr>\n",
              "    <tr>\n",
              "      <th>1</th>\n",
              "      <td>24</td>\n",
              "      <td>10</td>\n",
              "      <td>8</td>\n",
              "      <td>10</td>\n",
              "      <td>9.5</td>\n",
              "      <td>9.4</td>\n",
              "      <td>8.41</td>\n",
              "    </tr>\n",
              "    <tr>\n",
              "      <th>2</th>\n",
              "      <td>27</td>\n",
              "      <td>10</td>\n",
              "      <td>10</td>\n",
              "      <td>10</td>\n",
              "      <td>10</td>\n",
              "      <td>10</td>\n",
              "      <td>8.67</td>\n",
              "    </tr>\n",
              "    <tr>\n",
              "      <th>3</th>\n",
              "      <td>28</td>\n",
              "      <td>10</td>\n",
              "      <td>9.5</td>\n",
              "      <td>7.5</td>\n",
              "      <td>9.5</td>\n",
              "      <td>9.2</td>\n",
              "      <td>7.39</td>\n",
              "    </tr>\n",
              "    <tr>\n",
              "      <th>4</th>\n",
              "      <td>29</td>\n",
              "      <td>10</td>\n",
              "      <td>9.5</td>\n",
              "      <td>5</td>\n",
              "      <td>8.5</td>\n",
              "      <td>8.2</td>\n",
              "      <td>8.05</td>\n",
              "    </tr>\n",
              "  </tbody>\n",
              "</table>\n",
              "</div>"
            ],
            "text/plain": [
              "   id  QT   GK   TH   CK  TBM  TBTL\n",
              "0  22  10    9  8.5  8.5  8.8  8.52\n",
              "1  24  10    8   10  9.5  9.4  8.41\n",
              "2  27  10   10   10   10   10  8.67\n",
              "3  28  10  9.5  7.5  9.5  9.2  7.39\n",
              "4  29  10  9.5    5  8.5  8.2  8.05"
            ]
          },
          "metadata": {
            "tags": []
          },
          "execution_count": 4
        }
      ]
    },
    {
      "cell_type": "markdown",
      "metadata": {
        "id": "3qch4aB_a_BJ"
      },
      "source": [
        "#Xử lý wecode.csv\n"
      ]
    },
    {
      "cell_type": "code",
      "metadata": {
        "colab": {
          "base_uri": "https://localhost:8080/",
          "height": 431
        },
        "id": "yvKPwV46aP38",
        "outputId": "fa49fadd-1fa0-43eb-b47c-e0fe35c0dc4a"
      },
      "source": [
        "new_wecode = pd.DataFrame(data_wecode['user_id'])\n",
        "new_wecode['Sum_Problems'] = pd.DataFrame(data_wecode['is_final'])\n",
        "new_wecode.insert(2,'Sum_Submits', 1)\n",
        "new_wecode['Sum_Correct_Submits'] = pd.DataFrame(map(int, (data_wecode['pre_score'] == 10000)))\n",
        "new_wecode['Sum_Correct_Problems'] = pd.DataFrame(map(int, (data_wecode['pre_score'] == 10000) & (data_wecode['is_final'] == 1)))\n",
        "new_wecode.columns = ['id', 'Sum_Problems', 'Sum_Correct_Submits', 'Sum_Submits', 'Sum_Correct_Problems']\n",
        "new_wecode = new_wecode.groupby(['id']).sum()\n",
        "new_wecode"
      ],
      "execution_count": 7,
      "outputs": [
        {
          "output_type": "execute_result",
          "data": {
            "text/html": [
              "<div>\n",
              "<style scoped>\n",
              "    .dataframe tbody tr th:only-of-type {\n",
              "        vertical-align: middle;\n",
              "    }\n",
              "\n",
              "    .dataframe tbody tr th {\n",
              "        vertical-align: top;\n",
              "    }\n",
              "\n",
              "    .dataframe thead th {\n",
              "        text-align: right;\n",
              "    }\n",
              "</style>\n",
              "<table border=\"1\" class=\"dataframe\">\n",
              "  <thead>\n",
              "    <tr style=\"text-align: right;\">\n",
              "      <th></th>\n",
              "      <th>Sum_Problems</th>\n",
              "      <th>Sum_Correct_Submits</th>\n",
              "      <th>Sum_Submits</th>\n",
              "      <th>Sum_Correct_Problems</th>\n",
              "    </tr>\n",
              "    <tr>\n",
              "      <th>id</th>\n",
              "      <th></th>\n",
              "      <th></th>\n",
              "      <th></th>\n",
              "      <th></th>\n",
              "    </tr>\n",
              "  </thead>\n",
              "  <tbody>\n",
              "    <tr>\n",
              "      <th>1</th>\n",
              "      <td>2</td>\n",
              "      <td>2</td>\n",
              "      <td>1</td>\n",
              "      <td>1</td>\n",
              "    </tr>\n",
              "    <tr>\n",
              "      <th>4</th>\n",
              "      <td>38</td>\n",
              "      <td>54</td>\n",
              "      <td>44</td>\n",
              "      <td>37</td>\n",
              "    </tr>\n",
              "    <tr>\n",
              "      <th>5</th>\n",
              "      <td>5</td>\n",
              "      <td>6</td>\n",
              "      <td>3</td>\n",
              "      <td>3</td>\n",
              "    </tr>\n",
              "    <tr>\n",
              "      <th>6</th>\n",
              "      <td>88</td>\n",
              "      <td>130</td>\n",
              "      <td>89</td>\n",
              "      <td>85</td>\n",
              "    </tr>\n",
              "    <tr>\n",
              "      <th>7</th>\n",
              "      <td>2</td>\n",
              "      <td>5</td>\n",
              "      <td>0</td>\n",
              "      <td>0</td>\n",
              "    </tr>\n",
              "    <tr>\n",
              "      <th>...</th>\n",
              "      <td>...</td>\n",
              "      <td>...</td>\n",
              "      <td>...</td>\n",
              "      <td>...</td>\n",
              "    </tr>\n",
              "    <tr>\n",
              "      <th>1860</th>\n",
              "      <td>48</td>\n",
              "      <td>76</td>\n",
              "      <td>29</td>\n",
              "      <td>28</td>\n",
              "    </tr>\n",
              "    <tr>\n",
              "      <th>1862</th>\n",
              "      <td>6</td>\n",
              "      <td>12</td>\n",
              "      <td>4</td>\n",
              "      <td>4</td>\n",
              "    </tr>\n",
              "    <tr>\n",
              "      <th>1864</th>\n",
              "      <td>63</td>\n",
              "      <td>187</td>\n",
              "      <td>30</td>\n",
              "      <td>28</td>\n",
              "    </tr>\n",
              "    <tr>\n",
              "      <th>1865</th>\n",
              "      <td>17</td>\n",
              "      <td>99</td>\n",
              "      <td>10</td>\n",
              "      <td>10</td>\n",
              "    </tr>\n",
              "    <tr>\n",
              "      <th>1868</th>\n",
              "      <td>27</td>\n",
              "      <td>47</td>\n",
              "      <td>38</td>\n",
              "      <td>27</td>\n",
              "    </tr>\n",
              "  </tbody>\n",
              "</table>\n",
              "<p>1159 rows × 4 columns</p>\n",
              "</div>"
            ],
            "text/plain": [
              "      Sum_Problems  Sum_Correct_Submits  Sum_Submits  Sum_Correct_Problems\n",
              "id                                                                        \n",
              "1                2                    2            1                     1\n",
              "4               38                   54           44                    37\n",
              "5                5                    6            3                     3\n",
              "6               88                  130           89                    85\n",
              "7                2                    5            0                     0\n",
              "...            ...                  ...          ...                   ...\n",
              "1860            48                   76           29                    28\n",
              "1862             6                   12            4                     4\n",
              "1864            63                  187           30                    28\n",
              "1865            17                   99           10                    10\n",
              "1868            27                   47           38                    27\n",
              "\n",
              "[1159 rows x 4 columns]"
            ]
          },
          "metadata": {
            "tags": []
          },
          "execution_count": 7
        }
      ]
    },
    {
      "cell_type": "markdown",
      "metadata": {
        "id": "xMGEr0-AbDl3"
      },
      "source": [
        "#Xử lý score.csv"
      ]
    },
    {
      "cell_type": "code",
      "metadata": {
        "colab": {
          "base_uri": "https://localhost:8080/",
          "height": 402
        },
        "id": "STqj9lZCbGjZ",
        "outputId": "94ec892a-0b93-4552-eb04-8cf547fb156d"
      },
      "source": [
        "score = data_score_training[[\"id\", \"CK\"]]\n",
        "score"
      ],
      "execution_count": 8,
      "outputs": [
        {
          "output_type": "execute_result",
          "data": {
            "text/html": [
              "<div>\n",
              "<style scoped>\n",
              "    .dataframe tbody tr th:only-of-type {\n",
              "        vertical-align: middle;\n",
              "    }\n",
              "\n",
              "    .dataframe tbody tr th {\n",
              "        vertical-align: top;\n",
              "    }\n",
              "\n",
              "    .dataframe thead th {\n",
              "        text-align: right;\n",
              "    }\n",
              "</style>\n",
              "<table border=\"1\" class=\"dataframe\">\n",
              "  <thead>\n",
              "    <tr style=\"text-align: right;\">\n",
              "      <th></th>\n",
              "      <th>id</th>\n",
              "      <th>CK</th>\n",
              "    </tr>\n",
              "  </thead>\n",
              "  <tbody>\n",
              "    <tr>\n",
              "      <th>0</th>\n",
              "      <td>22</td>\n",
              "      <td>8.5</td>\n",
              "    </tr>\n",
              "    <tr>\n",
              "      <th>1</th>\n",
              "      <td>24</td>\n",
              "      <td>9.5</td>\n",
              "    </tr>\n",
              "    <tr>\n",
              "      <th>2</th>\n",
              "      <td>27</td>\n",
              "      <td>10</td>\n",
              "    </tr>\n",
              "    <tr>\n",
              "      <th>3</th>\n",
              "      <td>28</td>\n",
              "      <td>9.5</td>\n",
              "    </tr>\n",
              "    <tr>\n",
              "      <th>4</th>\n",
              "      <td>29</td>\n",
              "      <td>8.5</td>\n",
              "    </tr>\n",
              "    <tr>\n",
              "      <th>...</th>\n",
              "      <td>...</td>\n",
              "      <td>...</td>\n",
              "    </tr>\n",
              "    <tr>\n",
              "      <th>970</th>\n",
              "      <td>1857</td>\n",
              "      <td>4</td>\n",
              "    </tr>\n",
              "    <tr>\n",
              "      <th>971</th>\n",
              "      <td>1859</td>\n",
              "      <td>1.5</td>\n",
              "    </tr>\n",
              "    <tr>\n",
              "      <th>972</th>\n",
              "      <td>1862</td>\n",
              "      <td>7.5</td>\n",
              "    </tr>\n",
              "    <tr>\n",
              "      <th>973</th>\n",
              "      <td>1865</td>\n",
              "      <td>7.5</td>\n",
              "    </tr>\n",
              "    <tr>\n",
              "      <th>974</th>\n",
              "      <td>1866</td>\n",
              "      <td>5</td>\n",
              "    </tr>\n",
              "  </tbody>\n",
              "</table>\n",
              "<p>975 rows × 2 columns</p>\n",
              "</div>"
            ],
            "text/plain": [
              "       id   CK\n",
              "0      22  8.5\n",
              "1      24  9.5\n",
              "2      27   10\n",
              "3      28  9.5\n",
              "4      29  8.5\n",
              "..    ...  ...\n",
              "970  1857    4\n",
              "971  1859  1.5\n",
              "972  1862  7.5\n",
              "973  1865  7.5\n",
              "974  1866    5\n",
              "\n",
              "[975 rows x 2 columns]"
            ]
          },
          "metadata": {
            "tags": []
          },
          "execution_count": 8
        }
      ]
    },
    {
      "cell_type": "markdown",
      "metadata": {
        "id": "7yfVXy5ab0Zv"
      },
      "source": [
        "#Nối 2 bảng"
      ]
    },
    {
      "cell_type": "code",
      "metadata": {
        "colab": {
          "base_uri": "https://localhost:8080/",
          "height": 402
        },
        "id": "CrmstTHvb3tO",
        "outputId": "f0f5c085-0da3-434c-9751-c584f4c5f1ec"
      },
      "source": [
        "merge = pd.merge(new_wecode,score, on = 'id')\n",
        "merge = merge.dropna()\n",
        "merge"
      ],
      "execution_count": 9,
      "outputs": [
        {
          "output_type": "execute_result",
          "data": {
            "text/html": [
              "<div>\n",
              "<style scoped>\n",
              "    .dataframe tbody tr th:only-of-type {\n",
              "        vertical-align: middle;\n",
              "    }\n",
              "\n",
              "    .dataframe tbody tr th {\n",
              "        vertical-align: top;\n",
              "    }\n",
              "\n",
              "    .dataframe thead th {\n",
              "        text-align: right;\n",
              "    }\n",
              "</style>\n",
              "<table border=\"1\" class=\"dataframe\">\n",
              "  <thead>\n",
              "    <tr style=\"text-align: right;\">\n",
              "      <th></th>\n",
              "      <th>id</th>\n",
              "      <th>Sum_Problems</th>\n",
              "      <th>Sum_Correct_Submits</th>\n",
              "      <th>Sum_Submits</th>\n",
              "      <th>Sum_Correct_Problems</th>\n",
              "      <th>CK</th>\n",
              "    </tr>\n",
              "  </thead>\n",
              "  <tbody>\n",
              "    <tr>\n",
              "      <th>0</th>\n",
              "      <td>24</td>\n",
              "      <td>77</td>\n",
              "      <td>164</td>\n",
              "      <td>80</td>\n",
              "      <td>72</td>\n",
              "      <td>9.5</td>\n",
              "    </tr>\n",
              "    <tr>\n",
              "      <th>1</th>\n",
              "      <td>27</td>\n",
              "      <td>5</td>\n",
              "      <td>13</td>\n",
              "      <td>4</td>\n",
              "      <td>3</td>\n",
              "      <td>10</td>\n",
              "    </tr>\n",
              "    <tr>\n",
              "      <th>2</th>\n",
              "      <td>29</td>\n",
              "      <td>80</td>\n",
              "      <td>199</td>\n",
              "      <td>75</td>\n",
              "      <td>72</td>\n",
              "      <td>8.5</td>\n",
              "    </tr>\n",
              "    <tr>\n",
              "      <th>3</th>\n",
              "      <td>34</td>\n",
              "      <td>84</td>\n",
              "      <td>218</td>\n",
              "      <td>81</td>\n",
              "      <td>81</td>\n",
              "      <td>6.5</td>\n",
              "    </tr>\n",
              "    <tr>\n",
              "      <th>4</th>\n",
              "      <td>35</td>\n",
              "      <td>151</td>\n",
              "      <td>297</td>\n",
              "      <td>152</td>\n",
              "      <td>145</td>\n",
              "      <td>4.5</td>\n",
              "    </tr>\n",
              "    <tr>\n",
              "      <th>...</th>\n",
              "      <td>...</td>\n",
              "      <td>...</td>\n",
              "      <td>...</td>\n",
              "      <td>...</td>\n",
              "      <td>...</td>\n",
              "      <td>...</td>\n",
              "    </tr>\n",
              "    <tr>\n",
              "      <th>848</th>\n",
              "      <td>1856</td>\n",
              "      <td>31</td>\n",
              "      <td>64</td>\n",
              "      <td>23</td>\n",
              "      <td>23</td>\n",
              "      <td>7.5</td>\n",
              "    </tr>\n",
              "    <tr>\n",
              "      <th>849</th>\n",
              "      <td>1857</td>\n",
              "      <td>40</td>\n",
              "      <td>55</td>\n",
              "      <td>37</td>\n",
              "      <td>37</td>\n",
              "      <td>4</td>\n",
              "    </tr>\n",
              "    <tr>\n",
              "      <th>850</th>\n",
              "      <td>1859</td>\n",
              "      <td>30</td>\n",
              "      <td>31</td>\n",
              "      <td>3</td>\n",
              "      <td>3</td>\n",
              "      <td>1.5</td>\n",
              "    </tr>\n",
              "    <tr>\n",
              "      <th>851</th>\n",
              "      <td>1862</td>\n",
              "      <td>6</td>\n",
              "      <td>12</td>\n",
              "      <td>4</td>\n",
              "      <td>4</td>\n",
              "      <td>7.5</td>\n",
              "    </tr>\n",
              "    <tr>\n",
              "      <th>852</th>\n",
              "      <td>1865</td>\n",
              "      <td>17</td>\n",
              "      <td>99</td>\n",
              "      <td>10</td>\n",
              "      <td>10</td>\n",
              "      <td>7.5</td>\n",
              "    </tr>\n",
              "  </tbody>\n",
              "</table>\n",
              "<p>852 rows × 6 columns</p>\n",
              "</div>"
            ],
            "text/plain": [
              "       id  Sum_Problems  ...  Sum_Correct_Problems   CK\n",
              "0      24            77  ...                    72  9.5\n",
              "1      27             5  ...                     3   10\n",
              "2      29            80  ...                    72  8.5\n",
              "3      34            84  ...                    81  6.5\n",
              "4      35           151  ...                   145  4.5\n",
              "..    ...           ...  ...                   ...  ...\n",
              "848  1856            31  ...                    23  7.5\n",
              "849  1857            40  ...                    37    4\n",
              "850  1859            30  ...                     3  1.5\n",
              "851  1862             6  ...                     4  7.5\n",
              "852  1865            17  ...                    10  7.5\n",
              "\n",
              "[852 rows x 6 columns]"
            ]
          },
          "metadata": {
            "tags": []
          },
          "execution_count": 9
        }
      ]
    },
    {
      "cell_type": "code",
      "metadata": {
        "colab": {
          "base_uri": "https://localhost:8080/",
          "height": 195
        },
        "id": "EglGty5ucquc",
        "outputId": "fec70072-3c5f-41f9-e79b-e73b36365836"
      },
      "source": [
        "data_plot = merge.copy()\n",
        "data_plot = data_plot.sort_values(by='CK')\n",
        "data_plot.head()"
      ],
      "execution_count": 17,
      "outputs": [
        {
          "output_type": "execute_result",
          "data": {
            "text/html": [
              "<div>\n",
              "<style scoped>\n",
              "    .dataframe tbody tr th:only-of-type {\n",
              "        vertical-align: middle;\n",
              "    }\n",
              "\n",
              "    .dataframe tbody tr th {\n",
              "        vertical-align: top;\n",
              "    }\n",
              "\n",
              "    .dataframe thead th {\n",
              "        text-align: right;\n",
              "    }\n",
              "</style>\n",
              "<table border=\"1\" class=\"dataframe\">\n",
              "  <thead>\n",
              "    <tr style=\"text-align: right;\">\n",
              "      <th></th>\n",
              "      <th>id</th>\n",
              "      <th>Sum_Problems</th>\n",
              "      <th>Sum_Correct_Submits</th>\n",
              "      <th>Sum_Submits</th>\n",
              "      <th>Sum_Correct_Problems</th>\n",
              "      <th>CK</th>\n",
              "    </tr>\n",
              "  </thead>\n",
              "  <tbody>\n",
              "    <tr>\n",
              "      <th>394</th>\n",
              "      <td>823</td>\n",
              "      <td>48</td>\n",
              "      <td>109</td>\n",
              "      <td>46</td>\n",
              "      <td>46</td>\n",
              "      <td>0</td>\n",
              "    </tr>\n",
              "    <tr>\n",
              "      <th>60</th>\n",
              "      <td>161</td>\n",
              "      <td>44</td>\n",
              "      <td>68</td>\n",
              "      <td>41</td>\n",
              "      <td>41</td>\n",
              "      <td>0</td>\n",
              "    </tr>\n",
              "    <tr>\n",
              "      <th>63</th>\n",
              "      <td>166</td>\n",
              "      <td>28</td>\n",
              "      <td>32</td>\n",
              "      <td>22</td>\n",
              "      <td>21</td>\n",
              "      <td>0</td>\n",
              "    </tr>\n",
              "    <tr>\n",
              "      <th>736</th>\n",
              "      <td>1529</td>\n",
              "      <td>18</td>\n",
              "      <td>41</td>\n",
              "      <td>15</td>\n",
              "      <td>15</td>\n",
              "      <td>0</td>\n",
              "    </tr>\n",
              "    <tr>\n",
              "      <th>87</th>\n",
              "      <td>222</td>\n",
              "      <td>28</td>\n",
              "      <td>65</td>\n",
              "      <td>23</td>\n",
              "      <td>23</td>\n",
              "      <td>0</td>\n",
              "    </tr>\n",
              "  </tbody>\n",
              "</table>\n",
              "</div>"
            ],
            "text/plain": [
              "       id  Sum_Problems  ...  Sum_Correct_Problems  CK\n",
              "394   823            48  ...                    46   0\n",
              "60    161            44  ...                    41   0\n",
              "63    166            28  ...                    21   0\n",
              "736  1529            18  ...                    15   0\n",
              "87    222            28  ...                    23   0\n",
              "\n",
              "[5 rows x 6 columns]"
            ]
          },
          "metadata": {
            "tags": []
          },
          "execution_count": 17
        }
      ]
    },
    {
      "cell_type": "markdown",
      "metadata": {
        "id": "JFm_S-tiqwYS"
      },
      "source": [
        "#Biểu đồ mối liên hệ giữa các thông số có thể tính được đến điểm cuối kỳ"
      ]
    },
    {
      "cell_type": "code",
      "metadata": {
        "id": "nqOed--Tas8V"
      },
      "source": [
        "import matplotlib.pyplot as plt"
      ],
      "execution_count": 11,
      "outputs": []
    },
    {
      "cell_type": "markdown",
      "metadata": {
        "id": "sdFDjKKucW4k"
      },
      "source": [
        "#1. Tổng số problem đã solve(is_final == 1 and pre_score = 10000)/ Tổng số problem đã submit"
      ]
    },
    {
      "cell_type": "code",
      "metadata": {
        "colab": {
          "base_uri": "https://localhost:8080/",
          "height": 280
        },
        "id": "hGlaB5tfcihp",
        "outputId": "dc0ad070-d87f-415a-9f5e-98bc31cc8f57"
      },
      "source": [
        "data_1 = data_plot[\"Sum_Correct_Problems\"]/ data_plot[\"Sum_Problems\"]\n",
        "plt.scatter(data_1, data_plot[\"CK\"], c = 'red')\n",
        "plt.xlabel(\"Sum_Correct_Problems/Sum_Problems\")\n",
        "plt.ylabel(\"CK\")\n",
        "plt.show()"
      ],
      "execution_count": 12,
      "outputs": [
        {
          "output_type": "display_data",
          "data": {
            "image/png": "[encoded data removed]",
            "text/plain": [
              "<Figure size 432x288 with 1 Axes>"
            ]
          },
          "metadata": {
            "tags": [],
            "needs_background": "light"
          }
        }
      ]
    },
    {
      "cell_type": "markdown",
      "metadata": {
        "id": "SdfkR_RtaQ-y"
      },
      "source": [
        "#2.Tổng số problem đã submit/ Tổng số submissions"
      ]
    },
    {
      "cell_type": "code",
      "metadata": {
        "colab": {
          "base_uri": "https://localhost:8080/",
          "height": 280
        },
        "id": "OqlVIpFEaiYS",
        "outputId": "f79b0a68-5764-47a2-c789-1d92d60fbd08"
      },
      "source": [
        "data_2 = data_plot[\"Sum_Problems\"] / data_plot[\"Sum_Submits\"]\n",
        "plt.scatter(data_2, data_plot[\"CK\"], c = 'red')\n",
        "plt.xlabel(\"Sum_Problems/Sum_Submits\")\n",
        "plt.ylabel(\"CK\")\n",
        "plt.show()"
      ],
      "execution_count": 13,
      "outputs": [
        {
          "output_type": "display_data",
          "data": {
            "image/png": "[encoded data removed]",
            "text/plain": [
              "<Figure size 432x288 with 1 Axes>"
            ]
          },
          "metadata": {
            "tags": [],
            "needs_background": "light"
          }
        }
      ]
    },
    {
      "cell_type": "markdown",
      "metadata": {
        "id": "rx8kvLpjc-PR"
      },
      "source": [
        "#3. Số lần submit đúng(pre_score = 10000) / Tổng số submissions"
      ]
    },
    {
      "cell_type": "code",
      "metadata": {
        "colab": {
          "base_uri": "https://localhost:8080/",
          "height": 280
        },
        "id": "otm_dtY4dgvk",
        "outputId": "512e1021-2ab2-40b8-8ec3-62cb04cc8ec8"
      },
      "source": [
        "data_2 = data_plot[\"Sum_Correct_Submits\"] / data_plot[\"Sum_Submits\"]\n",
        "plt.scatter(data_2, data_plot[\"CK\"], c = 'red')\n",
        "plt.xlabel(\"Sum_Problems/Sum_Submits\")\n",
        "plt.ylabel(\"CK\")\n",
        "plt.show()"
      ],
      "execution_count": 14,
      "outputs": [
        {
          "output_type": "display_data",
          "data": {
            "image/png": "[encoded data removed]",
            "text/plain": [
              "<Figure size 432x288 with 1 Axes>"
            ]
          },
          "metadata": {
            "tags": [],
            "needs_background": "light"
          }
        }
      ]
    }
  ]
}

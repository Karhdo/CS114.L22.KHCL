{
  "nbformat": 4,
  "nbformat_minor": 0,
  "metadata": {
    "colab": {
      "name": "Sarcasm_detection.ipynb",
      "provenance": [],
      "collapsed_sections": [],
      "authorship_tag": "ABX9TyMU9y1ee4aj9GSfEvXnCtNC",
      "include_colab_link": true
    },
    "kernelspec": {
      "name": "python3",
      "display_name": "Python 3"
    },
    "language_info": {
      "name": "python"
    }
  },
  "cells": [
    {
      "cell_type": "markdown",
      "metadata": {
        "id": "view-in-github",
        "colab_type": "text"
      },
      "source": [
        "<a href=\"https://colab.research.google.com/github/trong-khanh-1109/CS114.L22.KHCL/blob/main/Sarcasm_detection.ipynb\" target=\"_parent\"><img src=\"https://colab.research.google.com/assets/colab-badge.svg\" alt=\"Open In Colab\"/></a>"
      ]
    },
    {
      "cell_type": "markdown",
      "metadata": {
        "id": "1vkDrwAHurYU"
      },
      "source": [
        "<h1 align=\"center\"><b>BÀI TẬP COLAB SỐ 04</b></h1>\n",
        "<h1 align=\"center\"><b>Sarcasm detection in news headline</b></h1>\n",
        "\n",
        "###LỚP: CS114.L21.KHCL-CS114.L22.KHCL\n",
        "###NHÓM:\n",
        "1. Đỗ Trọng Khánh - *19521676*\n",
        "2. Võ Phạm Duy Đức - *19521383*\n",
        "3. Trịnh Công Danh - *19521326*"
      ]
    },
    {
      "cell_type": "markdown",
      "metadata": {
        "id": "Q5qOg4Sbuw2u"
      },
      "source": [
        "#**I. Import thư viện cần thiết**"
      ]
    },
    {
      "cell_type": "code",
      "metadata": {
        "id": "Sbt0izA4NR2l"
      },
      "source": [
        "import numpy as np\n",
        "import pandas as pd\n",
        "\n",
        "import matplotlib.pyplot as plt\n",
        "import seaborn as sns\n",
        "\n",
        "from sklearn.model_selection import train_test_split\n",
        "from keras.preprocessing.sequence import pad_sequences\n",
        "import tensorflow as tf\n",
        "from keras.preprocessing.text import Tokenizer\n",
        "from sklearn.metrics import confusion_matrix, classification_report\n",
        "\n",
        "from keras import models, layers, optimizers, losses, callbacks"
      ],
      "execution_count": null,
      "outputs": []
    },
    {
      "cell_type": "markdown",
      "metadata": {
        "id": "EsqbQgzMuz_a"
      },
      "source": [
        "#**II. Dataset**"
      ]
    },
    {
      "cell_type": "code",
      "metadata": {
        "colab": {
          "base_uri": "https://localhost:8080/"
        },
        "id": "6GnfONdFFad4",
        "outputId": "f56a2de8-9015-4bc6-878f-86f26e6d9503"
      },
      "source": [
        "from google.colab import drive\n",
        "drive.mount('/content/drive')"
      ],
      "execution_count": null,
      "outputs": [
        {
          "output_type": "stream",
          "text": [
            "Mounted at /content/drive\n"
          ],
          "name": "stdout"
        }
      ]
    },
    {
      "cell_type": "code",
      "metadata": {
        "id": "2PbHV2OYGBsO"
      },
      "source": [
        "# Tin châm biếm\n",
        "df_sarcasm_1 = pd.read_csv('/content/drive/My Drive/Sarcasm_detection/Sarcasm/betoota.csv')\n",
        "df_sarcasm_2 = pd.read_csv('/content/drive/My Drive/Sarcasm_detection/Sarcasm/thehardtimes.csv')\n",
        "df_sarcasm_3 = pd.read_csv('/content/drive/My Drive/Sarcasm_detection/Sarcasm/thepoke.csv')\n",
        "# Tin không châm biếm\n",
        "df_not_sarcasm_1 = pd.read_csv('/content/drive/My Drive/Sarcasm_detection/Not_Sarcasm/citynews.csv')\n",
        "df_not_sarcasm_2 = pd.read_csv('/content/drive/My Drive/Sarcasm_detection/Not_Sarcasm/fortune.csv')\n",
        "df_not_sarcasm_3 = pd.read_csv('/content/drive/My Drive/Sarcasm_detection/Not_Sarcasm/thenewyork.csv')"
      ],
      "execution_count": null,
      "outputs": []
    },
    {
      "cell_type": "code",
      "metadata": {
        "id": "xkGzPPfYWcST"
      },
      "source": [
        "# Nối các file châm biếm thành 1 file\n",
        "df_sarcasm = df_sarcasm_1.append(df_sarcasm_2, sort = True)\n",
        "df_sarcasm = df_sarcasm.append(df_sarcasm_3, sort = True)\n",
        "# Nối các file không châm biếm thành 1 file\n",
        "df_not_sarcasm = df_not_sarcasm_1.append(df_not_sarcasm_2, sort = True)\n",
        "df_not_sarcasm = df_not_sarcasm.append(df_not_sarcasm_3, sort = True)"
      ],
      "execution_count": null,
      "outputs": []
    },
    {
      "cell_type": "code",
      "metadata": {
        "colab": {
          "base_uri": "https://localhost:8080/",
          "height": 417
        },
        "id": "wgVIFWHiWilM",
        "outputId": "32a43241-52bb-4123-ed0e-54367274559c"
      },
      "source": [
        "df = df_not_sarcasm.append(df_sarcasm, sort = True)\n",
        "df"
      ],
      "execution_count": null,
      "outputs": [
        {
          "output_type": "execute_result",
          "data": {
            "text/html": [
              "<div>\n",
              "<style scoped>\n",
              "    .dataframe tbody tr th:only-of-type {\n",
              "        vertical-align: middle;\n",
              "    }\n",
              "\n",
              "    .dataframe tbody tr th {\n",
              "        vertical-align: top;\n",
              "    }\n",
              "\n",
              "    .dataframe thead th {\n",
              "        text-align: right;\n",
              "    }\n",
              "</style>\n",
              "<table border=\"1\" class=\"dataframe\">\n",
              "  <thead>\n",
              "    <tr style=\"text-align: right;\">\n",
              "      <th></th>\n",
              "      <th>article_link</th>\n",
              "      <th>headline</th>\n",
              "      <th>is_sarcastic</th>\n",
              "    </tr>\n",
              "  </thead>\n",
              "  <tbody>\n",
              "    <tr>\n",
              "      <th>0</th>\n",
              "      <td>https://toronto.citynews.ca/2021/06/09/a-look-...</td>\n",
              "      <td>A look at COVID-19 vaccinations in Canada on W...</td>\n",
              "      <td>0</td>\n",
              "    </tr>\n",
              "    <tr>\n",
              "      <th>1</th>\n",
              "      <td>https://toronto.citynews.ca/2021/06/09/the-lat...</td>\n",
              "      <td>The latest numbers on COVID-19 in Canada for W...</td>\n",
              "      <td>0</td>\n",
              "    </tr>\n",
              "    <tr>\n",
              "      <th>2</th>\n",
              "      <td>https://toronto.citynews.ca/2021/06/09/b-c-app...</td>\n",
              "      <td>B.C. approves First Nations’ request to defer ...</td>\n",
              "      <td>0</td>\n",
              "    </tr>\n",
              "    <tr>\n",
              "      <th>3</th>\n",
              "      <td>https://toronto.citynews.ca/2021/06/09/northwe...</td>\n",
              "      <td>Northwest Territories launches reopening plan ...</td>\n",
              "      <td>0</td>\n",
              "    </tr>\n",
              "    <tr>\n",
              "      <th>4</th>\n",
              "      <td>https://toronto.citynews.ca/2021/06/09/report-...</td>\n",
              "      <td>Report says Canada needs to bolster plane cert...</td>\n",
              "      <td>0</td>\n",
              "    </tr>\n",
              "    <tr>\n",
              "      <th>...</th>\n",
              "      <td>...</td>\n",
              "      <td>...</td>\n",
              "      <td>...</td>\n",
              "    </tr>\n",
              "    <tr>\n",
              "      <th>12281</th>\n",
              "      <td>https://www.thepoke.co.uk/2018/05/02/best-camp...</td>\n",
              "      <td>Best campaign leaflet you’ll see this election</td>\n",
              "      <td>1</td>\n",
              "    </tr>\n",
              "    <tr>\n",
              "      <th>12282</th>\n",
              "      <td>https://www.thepoke.co.uk/2018/05/01/most-brut...</td>\n",
              "      <td>The most brutal ‘friend zoning’ of anyone you’...</td>\n",
              "      <td>1</td>\n",
              "    </tr>\n",
              "    <tr>\n",
              "      <th>12283</th>\n",
              "      <td>https://www.thepoke.co.uk/2018/05/01/someones-...</td>\n",
              "      <td>Someone’s collecting the most creative ways pe...</td>\n",
              "      <td>1</td>\n",
              "    </tr>\n",
              "    <tr>\n",
              "      <th>12284</th>\n",
              "      <td>https://www.thepoke.co.uk/2018/05/01/matthew-w...</td>\n",
              "      <td>Matthew Wright’s leaving The Wright Stuff so l...</td>\n",
              "      <td>1</td>\n",
              "    </tr>\n",
              "    <tr>\n",
              "      <th>12285</th>\n",
              "      <td>https://www.thepoke.co.uk/2018/05/01/benedict-...</td>\n",
              "      <td>Benedict Cumberbatch stopping Tom Holland’s sp...</td>\n",
              "      <td>1</td>\n",
              "    </tr>\n",
              "  </tbody>\n",
              "</table>\n",
              "<p>41876 rows × 3 columns</p>\n",
              "</div>"
            ],
            "text/plain": [
              "                                            article_link  ... is_sarcastic\n",
              "0      https://toronto.citynews.ca/2021/06/09/a-look-...  ...            0\n",
              "1      https://toronto.citynews.ca/2021/06/09/the-lat...  ...            0\n",
              "2      https://toronto.citynews.ca/2021/06/09/b-c-app...  ...            0\n",
              "3      https://toronto.citynews.ca/2021/06/09/northwe...  ...            0\n",
              "4      https://toronto.citynews.ca/2021/06/09/report-...  ...            0\n",
              "...                                                  ...  ...          ...\n",
              "12281  https://www.thepoke.co.uk/2018/05/02/best-camp...  ...            1\n",
              "12282  https://www.thepoke.co.uk/2018/05/01/most-brut...  ...            1\n",
              "12283  https://www.thepoke.co.uk/2018/05/01/someones-...  ...            1\n",
              "12284  https://www.thepoke.co.uk/2018/05/01/matthew-w...  ...            1\n",
              "12285  https://www.thepoke.co.uk/2018/05/01/benedict-...  ...            1\n",
              "\n",
              "[41876 rows x 3 columns]"
            ]
          },
          "metadata": {
            "tags": []
          },
          "execution_count": 6
        }
      ]
    },
    {
      "cell_type": "code",
      "metadata": {
        "colab": {
          "base_uri": "https://localhost:8080/",
          "height": 417
        },
        "id": "V9-6R4riWpJh",
        "outputId": "840ed85a-2593-497c-d2b4-bdc04e6353fb"
      },
      "source": [
        "# Xáo trộn dữ liệu trong df\n",
        "df = df.sample(frac=1).reset_index(drop=True)\n",
        "df"
      ],
      "execution_count": null,
      "outputs": [
        {
          "output_type": "execute_result",
          "data": {
            "text/html": [
              "<div>\n",
              "<style scoped>\n",
              "    .dataframe tbody tr th:only-of-type {\n",
              "        vertical-align: middle;\n",
              "    }\n",
              "\n",
              "    .dataframe tbody tr th {\n",
              "        vertical-align: top;\n",
              "    }\n",
              "\n",
              "    .dataframe thead th {\n",
              "        text-align: right;\n",
              "    }\n",
              "</style>\n",
              "<table border=\"1\" class=\"dataframe\">\n",
              "  <thead>\n",
              "    <tr style=\"text-align: right;\">\n",
              "      <th></th>\n",
              "      <th>article_link</th>\n",
              "      <th>headline</th>\n",
              "      <th>is_sarcastic</th>\n",
              "    </tr>\n",
              "  </thead>\n",
              "  <tbody>\n",
              "    <tr>\n",
              "      <th>0</th>\n",
              "      <td>https://fortune.com/2020/11/10/china-antitrust...</td>\n",
              "      <td>China’s clampdown on Internet industry has cos...</td>\n",
              "      <td>0</td>\n",
              "    </tr>\n",
              "    <tr>\n",
              "      <th>1</th>\n",
              "      <td>https://www.thepoke.co.uk/2019/10/11/the-types...</td>\n",
              "      <td>The types of colleagues you’ll usually find if...</td>\n",
              "      <td>1</td>\n",
              "    </tr>\n",
              "    <tr>\n",
              "      <th>2</th>\n",
              "      <td>https://thehardtimes.net/culture/trapt-issues-...</td>\n",
              "      <td>Trapt Issues “Start and Persist” Letter Urging...</td>\n",
              "      <td>1</td>\n",
              "    </tr>\n",
              "    <tr>\n",
              "      <th>3</th>\n",
              "      <td>https://thehardtimes.net/music/hardcore-singer...</td>\n",
              "      <td>Hardcore Singer Accidentally Swallows Microphone</td>\n",
              "      <td>1</td>\n",
              "    </tr>\n",
              "    <tr>\n",
              "      <th>4</th>\n",
              "      <td>https://toronto.citynews.ca/2021/04/01/how-can...</td>\n",
              "      <td>How Canada-China relations became strained to ...</td>\n",
              "      <td>0</td>\n",
              "    </tr>\n",
              "    <tr>\n",
              "      <th>...</th>\n",
              "      <td>...</td>\n",
              "      <td>...</td>\n",
              "      <td>...</td>\n",
              "    </tr>\n",
              "    <tr>\n",
              "      <th>41871</th>\n",
              "      <td>https://www.thepoke.co.uk/2019/12/10/11-of-the...</td>\n",
              "      <td>11 of the funniest (and occasionally most frig...</td>\n",
              "      <td>1</td>\n",
              "    </tr>\n",
              "    <tr>\n",
              "      <th>41872</th>\n",
              "      <td>https://www.thepoke.co.uk/2020/06/19/donald-tr...</td>\n",
              "      <td>Donald Trump just tweeted a faked CNN news vid...</td>\n",
              "      <td>1</td>\n",
              "    </tr>\n",
              "    <tr>\n",
              "      <th>41873</th>\n",
              "      <td>https://www.thepoke.co.uk/2019/12/09/donald-tr...</td>\n",
              "      <td>Donald Trump tried to mock Newsweek and it was...</td>\n",
              "      <td>1</td>\n",
              "    </tr>\n",
              "    <tr>\n",
              "      <th>41874</th>\n",
              "      <td>https://www.thepoke.co.uk/2019/12/17/people-ar...</td>\n",
              "      <td>People are enjoying the long – very long – lis...</td>\n",
              "      <td>1</td>\n",
              "    </tr>\n",
              "    <tr>\n",
              "      <th>41875</th>\n",
              "      <td>https://toronto.citynews.ca/2020/01/06/father-...</td>\n",
              "      <td>Father says teen hockey player paralyzed by on...</td>\n",
              "      <td>0</td>\n",
              "    </tr>\n",
              "  </tbody>\n",
              "</table>\n",
              "<p>41876 rows × 3 columns</p>\n",
              "</div>"
            ],
            "text/plain": [
              "                                            article_link  ... is_sarcastic\n",
              "0      https://fortune.com/2020/11/10/china-antitrust...  ...            0\n",
              "1      https://www.thepoke.co.uk/2019/10/11/the-types...  ...            1\n",
              "2      https://thehardtimes.net/culture/trapt-issues-...  ...            1\n",
              "3      https://thehardtimes.net/music/hardcore-singer...  ...            1\n",
              "4      https://toronto.citynews.ca/2021/04/01/how-can...  ...            0\n",
              "...                                                  ...  ...          ...\n",
              "41871  https://www.thepoke.co.uk/2019/12/10/11-of-the...  ...            1\n",
              "41872  https://www.thepoke.co.uk/2020/06/19/donald-tr...  ...            1\n",
              "41873  https://www.thepoke.co.uk/2019/12/09/donald-tr...  ...            1\n",
              "41874  https://www.thepoke.co.uk/2019/12/17/people-ar...  ...            1\n",
              "41875  https://toronto.citynews.ca/2020/01/06/father-...  ...            0\n",
              "\n",
              "[41876 rows x 3 columns]"
            ]
          },
          "metadata": {
            "tags": []
          },
          "execution_count": 7
        }
      ]
    },
    {
      "cell_type": "code",
      "metadata": {
        "colab": {
          "base_uri": "https://localhost:8080/"
        },
        "id": "HTpn0LQkX_tD",
        "outputId": "ea1cf7d2-aae8-45e1-f311-f96dfaca9575"
      },
      "source": [
        "df.info()"
      ],
      "execution_count": null,
      "outputs": [
        {
          "output_type": "stream",
          "text": [
            "<class 'pandas.core.frame.DataFrame'>\n",
            "RangeIndex: 41876 entries, 0 to 41875\n",
            "Data columns (total 3 columns):\n",
            " #   Column        Non-Null Count  Dtype \n",
            "---  ------        --------------  ----- \n",
            " 0   article_link  41876 non-null  object\n",
            " 1   headline      41876 non-null  object\n",
            " 2   is_sarcastic  41876 non-null  int64 \n",
            "dtypes: int64(1), object(2)\n",
            "memory usage: 981.6+ KB\n"
          ],
          "name": "stdout"
        }
      ]
    },
    {
      "cell_type": "markdown",
      "metadata": {
        "id": "tAUcClj7YHqT"
      },
      "source": [
        "#**III. Tiền xử lý dữ liệu**"
      ]
    },
    {
      "cell_type": "code",
      "metadata": {
        "id": "OcojYVF9eRdV"
      },
      "source": [
        "def get_sequences(texts, tokenizer, train = True, max_seq_length = None):\n",
        "  sequences = tokenizer.texts_to_sequences(texts) # Ánh xạ mỗi từ của 1 câu qua số nguyên dương\n",
        "  # Các câu đều có độ dài khác nhau nên bước tiếp theo chúng ta cần đưa chúng về cùng độ dài với độ dài là độ dài max của một chuỗi\n",
        "\n",
        "  if train == True:\n",
        "    max_seq_length = np.max(list(map(len, sequences)))  # Tìm chuỗi có độ dài lớn nhất\n",
        "  sequences = tf.keras.preprocessing.sequence.pad_sequences(sequences, maxlen = max_seq_length, padding = 'post') # Đưa các câu về cùng độ dài\n",
        "  return sequences"
      ],
      "execution_count": null,
      "outputs": []
    },
    {
      "cell_type": "code",
      "metadata": {
        "id": "Xxr7AqJ6XB9f"
      },
      "source": [
        "def preprocess_inputs(df):\n",
        "  df = df.copy()\n",
        "  # Xóa cột article_link\n",
        "  df = df.drop('article_link', axis = 1)\n",
        "  # \n",
        "  X = df['headline']\n",
        "  y = df['is_sarcastic']\n",
        "  # Chia tập dữ liệu train test\n",
        "  X_train, X_test, y_train, y_test = train_test_split(X, y, train_size = 0.7, shuffle = True, random_state = 1)\n",
        "  # Tạo và fit tokenizer\n",
        "  tokenizer = tf.keras.preprocessing.text.Tokenizer()\n",
        "  tokenizer.fit_on_texts(X_train)\n",
        "  print(\"Số lượng từ (sắp xếp từ trên xuống dưới theo sự phổ biến)\", len(tokenizer.word_index) + 1)\n",
        "  # get sequences data\n",
        "  X_train = get_sequences(texts = X_train, tokenizer = tokenizer, train = True)\n",
        "  X_test = get_sequences(texts = X_test, tokenizer = tokenizer, train = False, max_seq_length = X_train.shape[1])\n",
        "  print(\"Độ dài của câu: \", X_train.shape[1])\n",
        "  return X_train, X_test, y_train, y_test"
      ],
      "execution_count": null,
      "outputs": []
    },
    {
      "cell_type": "markdown",
      "metadata": {
        "id": "ACXhzPkGvxGI"
      },
      "source": [
        "#**VI. Chia tập dữ liệu train test**"
      ]
    },
    {
      "cell_type": "code",
      "metadata": {
        "colab": {
          "base_uri": "https://localhost:8080/"
        },
        "id": "lDwP-IcZZn6o",
        "outputId": "7c0b3167-a712-431e-980b-29ffea110194"
      },
      "source": [
        "X_train, X_test, y_train, y_test = preprocess_inputs(df)"
      ],
      "execution_count": null,
      "outputs": [
        {
          "output_type": "stream",
          "text": [
            "Số lượng từ (sắp xếp từ trên xuống dưới theo sự phổ biến) 28848\n",
            "Độ dài của câu:  195\n"
          ],
          "name": "stdout"
        }
      ]
    },
    {
      "cell_type": "code",
      "metadata": {
        "colab": {
          "base_uri": "https://localhost:8080/"
        },
        "id": "pjrgH278Z7ny",
        "outputId": "584fcc7d-e934-4a49-ae4f-da21652bb1ed"
      },
      "source": [
        "X_train"
      ],
      "execution_count": null,
      "outputs": [
        {
          "output_type": "execute_result",
          "data": {
            "text/plain": [
              "array([[ 298,  217,   54, ...,    0,    0,    0],\n",
              "       [1867,  844,    1, ...,    0,    0,    0],\n",
              "       [ 108,   37,   96, ...,    0,    0,    0],\n",
              "       ...,\n",
              "       [ 706, 5735,  155, ...,    0,    0,    0],\n",
              "       [ 115, 1072,   65, ...,    0,    0,    0],\n",
              "       [ 122, 2445,    1, ...,    0,    0,    0]], dtype=int32)"
            ]
          },
          "metadata": {
            "tags": []
          },
          "execution_count": 12
        }
      ]
    },
    {
      "cell_type": "code",
      "metadata": {
        "colab": {
          "base_uri": "https://localhost:8080/"
        },
        "id": "4SZgg34mM2Hj",
        "outputId": "5ac27a52-4fcc-445c-c2d2-10005216ad9f"
      },
      "source": [
        "y_train.value_counts()"
      ],
      "execution_count": null,
      "outputs": [
        {
          "output_type": "execute_result",
          "data": {
            "text/plain": [
              "0    14977\n",
              "1    14336\n",
              "Name: is_sarcastic, dtype: int64"
            ]
          },
          "metadata": {
            "tags": []
          },
          "execution_count": 13
        }
      ]
    },
    {
      "cell_type": "code",
      "metadata": {
        "colab": {
          "base_uri": "https://localhost:8080/"
        },
        "id": "SvMO8xo9g2Qh",
        "outputId": "7602eba7-61eb-4b42-99c8-05d7a9840cee"
      },
      "source": [
        "X_test"
      ],
      "execution_count": null,
      "outputs": [
        {
          "output_type": "execute_result",
          "data": {
            "text/plain": [
              "array([[10412,  1642,  4878, ...,     0,     0,     0],\n",
              "       [ 1158,  1937,   664, ...,     0,     0,     0],\n",
              "       [  138,   636,     7, ...,     0,     0,     0],\n",
              "       ...,\n",
              "       [  239,  3911,   182, ...,     0,     0,     0],\n",
              "       [    2,    42,    90, ...,     0,     0,     0],\n",
              "       [   45,   679,  2485, ...,     0,     0,     0]], dtype=int32)"
            ]
          },
          "metadata": {
            "tags": []
          },
          "execution_count": 14
        }
      ]
    },
    {
      "cell_type": "code",
      "metadata": {
        "colab": {
          "base_uri": "https://localhost:8080/"
        },
        "id": "sST6teVQg3u-",
        "outputId": "2e2d2aa1-3c2f-4ea7-aaf3-ad4a47db37d1"
      },
      "source": [
        "y_test"
      ],
      "execution_count": null,
      "outputs": [
        {
          "output_type": "execute_result",
          "data": {
            "text/plain": [
              "1785     0\n",
              "5104     0\n",
              "8850     1\n",
              "12585    0\n",
              "15937    1\n",
              "        ..\n",
              "41451    0\n",
              "31192    1\n",
              "22860    0\n",
              "32065    0\n",
              "33359    0\n",
              "Name: is_sarcastic, Length: 12563, dtype: int64"
            ]
          },
          "metadata": {
            "tags": []
          },
          "execution_count": 15
        }
      ]
    },
    {
      "cell_type": "code",
      "metadata": {
        "colab": {
          "base_uri": "https://localhost:8080/"
        },
        "id": "0SZ1DfxWg8X8",
        "outputId": "d3c17e51-5a1d-4eb3-a1db-2b12ffaca709"
      },
      "source": [
        "X_train = np.array(X_train)\n",
        "X_test = np.array(X_test)\n",
        "y_train = np.array(y_train)\n",
        "y_test = np.array(y_test)\n",
        "X_train"
      ],
      "execution_count": null,
      "outputs": [
        {
          "output_type": "execute_result",
          "data": {
            "text/plain": [
              "array([[ 298,  217,   54, ...,    0,    0,    0],\n",
              "       [1867,  844,    1, ...,    0,    0,    0],\n",
              "       [ 108,   37,   96, ...,    0,    0,    0],\n",
              "       ...,\n",
              "       [ 706, 5735,  155, ...,    0,    0,    0],\n",
              "       [ 115, 1072,   65, ...,    0,    0,    0],\n",
              "       [ 122, 2445,    1, ...,    0,    0,    0]], dtype=int32)"
            ]
          },
          "metadata": {
            "tags": []
          },
          "execution_count": 16
        }
      ]
    },
    {
      "cell_type": "markdown",
      "metadata": {
        "id": "Lvvh2e92PQpV"
      },
      "source": [
        "#**V. Tạo model**"
      ]
    },
    {
      "cell_type": "code",
      "metadata": {
        "id": "It77pVFSPSJg"
      },
      "source": [
        "model = tf.keras.Sequential([\n",
        "    tf.keras.layers.Embedding(28930, 16, input_length=40),\n",
        "    tf.keras.layers.GlobalAveragePooling1D(),\n",
        "    tf.keras.layers.Dense(128, activation='relu'),\n",
        "    #tf.keras.layers.Dense(128, activation='relu'),\n",
        "    tf.keras.layers.Dense(1, activation='sigmoid')\n",
        "])\n",
        "model.compile(loss='binary_crossentropy',optimizer='adam',metrics=['accuracy'])"
      ],
      "execution_count": null,
      "outputs": []
    },
    {
      "cell_type": "code",
      "metadata": {
        "colab": {
          "base_uri": "https://localhost:8080/"
        },
        "id": "c_1RUKivmkPD",
        "outputId": "dbf7061b-3afd-4cb8-af53-de66af0910ad"
      },
      "source": [
        "model.summary()"
      ],
      "execution_count": null,
      "outputs": [
        {
          "output_type": "stream",
          "text": [
            "Model: \"sequential_6\"\n",
            "_________________________________________________________________\n",
            "Layer (type)                 Output Shape              Param #   \n",
            "=================================================================\n",
            "embedding_6 (Embedding)      (None, 40, 16)            462880    \n",
            "_________________________________________________________________\n",
            "global_average_pooling1d_2 ( (None, 16)                0         \n",
            "_________________________________________________________________\n",
            "dense_13 (Dense)             (None, 128)               2176      \n",
            "_________________________________________________________________\n",
            "dense_14 (Dense)             (None, 1)                 129       \n",
            "=================================================================\n",
            "Total params: 465,185\n",
            "Trainable params: 465,185\n",
            "Non-trainable params: 0\n",
            "_________________________________________________________________\n"
          ],
          "name": "stdout"
        }
      ]
    },
    {
      "cell_type": "markdown",
      "metadata": {
        "id": "TK3U34KQvfio"
      },
      "source": [
        "#**VI. Training**"
      ]
    },
    {
      "cell_type": "code",
      "metadata": {
        "colab": {
          "base_uri": "https://localhost:8080/"
        },
        "id": "xnraMaYBYZjA",
        "outputId": "b72b7bc0-e6d2-48ef-8bdf-813153f9c6dd"
      },
      "source": [
        "history = model.fit(X_train, y_train, epochs=30, validation_data=(X_test, y_test), verbose=2)"
      ],
      "execution_count": null,
      "outputs": [
        {
          "output_type": "stream",
          "text": [
            "Epoch 1/30\n",
            "WARNING:tensorflow:Model was constructed with shape (None, 40) for input KerasTensor(type_spec=TensorSpec(shape=(None, 40), dtype=tf.float32, name='embedding_6_input'), name='embedding_6_input', description=\"created by layer 'embedding_6_input'\"), but it was called on an input with incompatible shape (None, 195).\n",
            "WARNING:tensorflow:Model was constructed with shape (None, 40) for input KerasTensor(type_spec=TensorSpec(shape=(None, 40), dtype=tf.float32, name='embedding_6_input'), name='embedding_6_input', description=\"created by layer 'embedding_6_input'\"), but it was called on an input with incompatible shape (None, 195).\n",
            "WARNING:tensorflow:Model was constructed with shape (None, 40) for input KerasTensor(type_spec=TensorSpec(shape=(None, 40), dtype=tf.float32, name='embedding_6_input'), name='embedding_6_input', description=\"created by layer 'embedding_6_input'\"), but it was called on an input with incompatible shape (None, 195).\n",
            "917/917 - 7s - loss: 0.4283 - accuracy: 0.7910 - val_loss: 0.1799 - val_accuracy: 0.9352\n",
            "Epoch 2/30\n",
            "917/917 - 6s - loss: 0.1352 - accuracy: 0.9504 - val_loss: 0.1161 - val_accuracy: 0.9563\n",
            "Epoch 3/30\n",
            "917/917 - 6s - loss: 0.0830 - accuracy: 0.9707 - val_loss: 0.0985 - val_accuracy: 0.9620\n",
            "Epoch 4/30\n",
            "917/917 - 6s - loss: 0.0566 - accuracy: 0.9813 - val_loss: 0.0933 - val_accuracy: 0.9643\n",
            "Epoch 5/30\n",
            "917/917 - 6s - loss: 0.0409 - accuracy: 0.9869 - val_loss: 0.0883 - val_accuracy: 0.9677\n",
            "Epoch 6/30\n",
            "917/917 - 6s - loss: 0.0279 - accuracy: 0.9917 - val_loss: 0.1142 - val_accuracy: 0.9575\n",
            "Epoch 7/30\n",
            "917/917 - 6s - loss: 0.0203 - accuracy: 0.9941 - val_loss: 0.1070 - val_accuracy: 0.9630\n",
            "Epoch 8/30\n",
            "917/917 - 6s - loss: 0.0143 - accuracy: 0.9962 - val_loss: 0.1006 - val_accuracy: 0.9673\n",
            "Epoch 9/30\n",
            "917/917 - 6s - loss: 0.0103 - accuracy: 0.9973 - val_loss: 0.1063 - val_accuracy: 0.9669\n",
            "Epoch 10/30\n",
            "917/917 - 6s - loss: 0.0072 - accuracy: 0.9983 - val_loss: 0.1178 - val_accuracy: 0.9647\n",
            "Epoch 11/30\n",
            "917/917 - 6s - loss: 0.0057 - accuracy: 0.9983 - val_loss: 0.1300 - val_accuracy: 0.9623\n",
            "Epoch 12/30\n",
            "917/917 - 6s - loss: 0.0041 - accuracy: 0.9989 - val_loss: 0.1328 - val_accuracy: 0.9632\n",
            "Epoch 13/30\n",
            "917/917 - 6s - loss: 0.0035 - accuracy: 0.9990 - val_loss: 0.1441 - val_accuracy: 0.9635\n",
            "Epoch 14/30\n",
            "917/917 - 6s - loss: 0.0020 - accuracy: 0.9996 - val_loss: 0.1472 - val_accuracy: 0.9642\n",
            "Epoch 15/30\n",
            "917/917 - 6s - loss: 0.0017 - accuracy: 0.9996 - val_loss: 0.1587 - val_accuracy: 0.9623\n",
            "Epoch 16/30\n",
            "917/917 - 6s - loss: 0.0013 - accuracy: 0.9997 - val_loss: 0.1690 - val_accuracy: 0.9612\n",
            "Epoch 17/30\n",
            "917/917 - 6s - loss: 0.0016 - accuracy: 0.9997 - val_loss: 0.1721 - val_accuracy: 0.9623\n",
            "Epoch 18/30\n",
            "917/917 - 6s - loss: 0.0020 - accuracy: 0.9994 - val_loss: 0.1782 - val_accuracy: 0.9616\n",
            "Epoch 19/30\n",
            "917/917 - 6s - loss: 4.1726e-04 - accuracy: 0.9999 - val_loss: 0.1827 - val_accuracy: 0.9608\n",
            "Epoch 20/30\n",
            "917/917 - 6s - loss: 5.0157e-04 - accuracy: 0.9999 - val_loss: 0.1913 - val_accuracy: 0.9600\n",
            "Epoch 21/30\n",
            "917/917 - 7s - loss: 4.4477e-04 - accuracy: 1.0000 - val_loss: 0.1964 - val_accuracy: 0.9608\n",
            "Epoch 22/30\n",
            "917/917 - 6s - loss: 0.0014 - accuracy: 0.9996 - val_loss: 0.3713 - val_accuracy: 0.9374\n",
            "Epoch 23/30\n",
            "917/917 - 6s - loss: 5.2128e-04 - accuracy: 0.9999 - val_loss: 0.2079 - val_accuracy: 0.9580\n",
            "Epoch 24/30\n",
            "917/917 - 6s - loss: 4.5096e-04 - accuracy: 0.9999 - val_loss: 0.2056 - val_accuracy: 0.9600\n",
            "Epoch 25/30\n",
            "917/917 - 6s - loss: 8.5566e-04 - accuracy: 0.9997 - val_loss: 0.2107 - val_accuracy: 0.9596\n",
            "Epoch 26/30\n",
            "917/917 - 6s - loss: 0.0015 - accuracy: 0.9994 - val_loss: 0.2227 - val_accuracy: 0.9573\n",
            "Epoch 27/30\n",
            "917/917 - 6s - loss: 2.3418e-04 - accuracy: 1.0000 - val_loss: 0.2173 - val_accuracy: 0.9592\n",
            "Epoch 28/30\n",
            "917/917 - 6s - loss: 4.5488e-04 - accuracy: 0.9999 - val_loss: 0.2219 - val_accuracy: 0.9595\n",
            "Epoch 29/30\n",
            "917/917 - 6s - loss: 3.1389e-04 - accuracy: 0.9999 - val_loss: 0.2246 - val_accuracy: 0.9590\n",
            "Epoch 30/30\n",
            "917/917 - 6s - loss: 6.0913e-04 - accuracy: 0.9998 - val_loss: 0.2259 - val_accuracy: 0.9593\n"
          ],
          "name": "stdout"
        }
      ]
    },
    {
      "cell_type": "code",
      "metadata": {
        "colab": {
          "base_uri": "https://localhost:8080/",
          "height": 541
        },
        "id": "7iwAL302HIAe",
        "outputId": "54835979-7d2f-4ee6-8fca-39d555c4836a"
      },
      "source": [
        "def plot_graphs(history, string):\n",
        "  plt.plot(history.history[string])\n",
        "  plt.plot(history.history['val_'+string])\n",
        "  plt.xlabel(\"Epochs\")\n",
        "  plt.ylabel(string)\n",
        "  plt.legend([string, 'val_'+string])\n",
        "  plt.show()\n",
        "  \n",
        "plot_graphs(history, \"accuracy\")\n",
        "plot_graphs(history, \"loss\")"
      ],
      "execution_count": null,
      "outputs": [
        {
          "output_type": "display_data",
          "data": {
            "image/png": "[encoded data removed]",
            "text/plain": [
              "<Figure size 432x288 with 1 Axes>"
            ]
          },
          "metadata": {
            "tags": [],
            "needs_background": "light"
          }
        },
        {
          "output_type": "display_data",
          "data": {
            "image/png": "[encoded data removed]",
            "text/plain": [
              "<Figure size 432x288 with 1 Axes>"
            ]
          },
          "metadata": {
            "tags": [],
            "needs_background": "light"
          }
        }
      ]
    },
    {
      "cell_type": "code",
      "metadata": {
        "colab": {
          "base_uri": "https://localhost:8080/",
          "height": 606
        },
        "id": "cNreAOa9k02h",
        "outputId": "1930c593-3727-4ee6-fe64-f1072ae81e37"
      },
      "source": [
        "results = model.evaluate(X_test, y_test, verbose=0)\n",
        "#print(results)\n",
        "print(\"Accuracy: {:.2f}%\".format(results[1] * 100))\n",
        "\n",
        "y_pred = np.squeeze(model.predict(X_test) >= 0.5).astype(np.int)\n",
        "cm = confusion_matrix(y_test, y_pred, labels=[0, 1])\n",
        "clr = classification_report(y_test, y_pred, labels=[0, 1], target_names=[\"No Sarcasm\", \"Sarcasm\"])\n",
        "\n",
        "plt.figure(figsize=(6, 6))\n",
        "sns.heatmap(cm, annot=True, fmt='g', vmin=0, cmap='Blues', cbar=False)\n",
        "plt.xticks(ticks=[0.5, 1.5], labels=[\"No Sarcasm\", \"Sarcasm\"])\n",
        "plt.yticks(ticks=[0.5, 1.5], labels=[\"No Sarcasm\", \"Sarcasm\"])\n",
        "plt.xlabel(\"Predicted\")\n",
        "plt.ylabel(\"Actual\")\n",
        "plt.title(\"Confusion Matrix\")\n",
        "plt.show()\n",
        "\n",
        "print(\"Classification Report:\\n----------------------\\n\", clr)"
      ],
      "execution_count": null,
      "outputs": [
        {
          "output_type": "stream",
          "text": [
            "Accuracy: 95.93%\n"
          ],
          "name": "stdout"
        },
        {
          "output_type": "display_data",
          "data": {
            "image/png": "[encoded data removed]",
            "text/plain": [
              "<Figure size 432x432 with 1 Axes>"
            ]
          },
          "metadata": {
            "tags": [],
            "needs_background": "light"
          }
        },
        {
          "output_type": "stream",
          "text": [
            "Classification Report:\n",
            "----------------------\n",
            "               precision    recall  f1-score   support\n",
            "\n",
            "  No Sarcasm       0.96      0.96      0.96      6482\n",
            "     Sarcasm       0.96      0.96      0.96      6081\n",
            "\n",
            "    accuracy                           0.96     12563\n",
            "   macro avg       0.96      0.96      0.96     12563\n",
            "weighted avg       0.96      0.96      0.96     12563\n",
            "\n"
          ],
          "name": "stdout"
        }
      ]
    },
    {
      "cell_type": "markdown",
      "metadata": {
        "id": "6BphOrJovbgb"
      },
      "source": [
        "#**VII. Dự đoán một tiêu đề bất kỳ**"
      ]
    },
    {
      "cell_type": "code",
      "metadata": {
        "id": "HWhP_z7QmQfG"
      },
      "source": [
        "class_names = ['Not sarcastic', 'Sarcastic']\n"
      ],
      "execution_count": null,
      "outputs": []
    },
    {
      "cell_type": "code",
      "metadata": {
        "colab": {
          "base_uri": "https://localhost:8080/"
        },
        "id": "7yDb1E2Mg-YF",
        "outputId": "03e2bf05-660c-4f0e-a4ad-14e73672b333"
      },
      "source": [
        "headline = [\"granny starting to fear spiders in the garden might be real\"] \n",
        "print(\"Headline: \", headline)\n",
        "print(\"\\nTrue label: \", 1)\n",
        "headline = tokenizer.texts_to_sequences(headline)\n",
        "headline = pad_sequences(headline, maxlen=195, padding='post', truncating='post')\n",
        "\n",
        "output = model.predict(headline)\n",
        "pred = (output>0.5).astype('int64')\n",
        "\n",
        "print(\"\\nPredicted label: \", class_names[pred[0][0]])"
      ],
      "execution_count": null,
      "outputs": [
        {
          "output_type": "stream",
          "text": [
            "Headline:  ['granny starting to fear spiders in the garden might be real']\n",
            "\n",
            "True label:  1\n",
            "\n",
            "Predicted label:  Sarcastic\n"
          ],
          "name": "stdout"
        }
      ]
    },
    {
      "cell_type": "markdown",
      "metadata": {
        "id": "Bz0F5rFuwIJI"
      },
      "source": [
        "#**VIII. Nhận xét:**\n",
        " - Theo biểu đồ ở mục VII ta thấy accuracy là rất cao (95.93%) nên model sử dụng cho bài toán này là tốt"
      ]
    },
    {
      "cell_type": "markdown",
      "metadata": {
        "id": "ZBre8GGFwtC1"
      },
      "source": [
        "#**IX. Tài liệu tham khảo**\n",
        "- https://www.kaggle.com/gcdatkin/news-headline-sarcasm-detection\n",
        "- https://cainvas.ai-tech.systems/use-cases/sarcasm-detection-app-for-news-headlines/#Visualization"
      ]
    }
  ]
}

{
  "nbformat": 4,
  "nbformat_minor": 0,
  "metadata": {
    "colab": {
      "name": "Untitled1.ipynb",
      "provenance": [],
      "collapsed_sections": [],
      "authorship_tag": "ABX9TyMGFy1AG0IFV3nudRSgE2YE",
      "include_colab_link": true
    },
    "kernelspec": {
      "name": "python3",
      "display_name": "Python 3"
    },
    "language_info": {
      "name": "python"
    }
  },
  "cells": [
    {
      "cell_type": "markdown",
      "metadata": {
        "id": "view-in-github",
        "colab_type": "text"
      },
      "source": [
        "<a href=\"https://colab.research.google.com/github/trong-khanh-1109/CS114.L22.KHCL/blob/main/Untitled1.ipynb\" target=\"_parent\"><img src=\"https://colab.research.google.com/assets/colab-badge.svg\" alt=\"Open In Colab\"/></a>"
      ]
    },
    {
      "cell_type": "code",
      "metadata": {
        "id": "Wl1pjoXuwAYv"
      },
      "source": [
        "DIRECTION = {\n",
        "             'l': (0, -1),\n",
        "             'r': (0, 1),\n",
        "             'u': (-1, 0),\n",
        "             'd': (1, 0)\n",
        "            }\n",
        "\n",
        "FLOW = {\n",
        "        'l': {'2': 'l', '3': 'd', '6': 'u', '7': 'l'},\n",
        "        'r': {'2': 'r', '4': 'd', '5': 'u', '7': 'r'},\n",
        "        'd': {'1': 'd', '5': 'l', '6': 'r', '7': 'd'},\n",
        "        'u': {'1': 'u', '3': 'r', '4': 'l', '7': 'u'}\n",
        "       }\n",
        "\n",
        "_IN_RANGE = lambda x, y, state: 0<=x<len(state) and 0<=y<len(state[0])\n",
        "\n",
        "def find_starting_points(state):\n",
        "\n",
        "    pipes = list(filter(lambda x: 'a'<=x<='z',''.join(state)))\n",
        "    starts = {}\n",
        "\n",
        "    for i in range(len(state)):\n",
        "        for j in range(len(state[0])):\n",
        "            if 'a'<=state[i][j]<='z':\n",
        "                starts[state[i][j]] = [i,j]\n",
        "\n",
        "    return starts, pipes\n",
        "\n",
        "def follow_flow(flow, current_path, state, end, final_path):\n",
        "\n",
        "    x, y = [x+y for x,y in zip(current_path[-1], DIRECTION[flow])]\n",
        "\n",
        "    if _IN_RANGE(x, y, state) and state[x][y] == end:\n",
        "        final_path.append(current_path + [''])\n",
        "    elif _IN_RANGE(x, y, state) and state[x][y] in FLOW[flow]:\n",
        "        return follow_flow(FLOW[flow][state[x][y]], current_path + [[x, y]], state, end, final_path)\n",
        "    else:\n",
        "        final_path.append(current_path + ['leak'])\n",
        "\n",
        "    return final_path\n",
        "\n",
        "def sum_water(total_path):\n",
        "\n",
        "    final_cells = set()\n",
        "    first_leak = list(map(lambda x: len(x), filter(lambda x: 'leak' in x, total_path)))\n",
        "    first_leak = 0 if len(first_leak) == 0 else min(first_leak) - 1\n",
        "\n",
        "    for path in total_path:\n",
        "        path = path[:-1]\n",
        "        path = list(map(lambda x: str(x[0]) + ' ' + str(x[1]), path))\n",
        "        idx = min(first_leak, len(path)) if first_leak else len(path)\n",
        "        final_cells |= set(path[:idx])\n",
        "\n",
        "    return len(final_cells) * (-1 if first_leak > 0 else 1)\n",
        "\n",
        "def pipesGame(state):\n",
        "\n",
        "    starts, pipes = find_starting_points(state)\n",
        "    total_path = []\n",
        "\n",
        "    for pipe in pipes:\n",
        "        end = pipe.upper()\n",
        "        for di in DIRECTION:\n",
        "            x, y = [x+y for x,y in zip(starts[pipe], DIRECTION[di])]\n",
        "            if _IN_RANGE(x, y, state) and state[x][y] in FLOW[di]:\n",
        "                total_path += follow_flow(FLOW[di][state[x][y]], [[x, y]], state, end, [])\n",
        "\n",
        "    return sum_water(total_path)\n",
        "\n",
        "n = int(input())\n",
        "matrix = []\n",
        "for i in range(n):\n",
        "    arr = input()\n",
        "    matrix.append(arr)\n",
        "\n",
        "res = pipesGame(matrix)\n",
        "print(res)"
      ],
      "execution_count": null,
      "outputs": []
    }
  ]
}
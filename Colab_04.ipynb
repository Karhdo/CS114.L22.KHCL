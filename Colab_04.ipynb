{
  "nbformat": 4,
  "nbformat_minor": 0,
  "metadata": {
    "colab": {
      "name": "\bColab_04.ipynb",
      "provenance": [],
      "collapsed_sections": [],
      "authorship_tag": "ABX9TyO1Q54hYjfyBq56mCqOy0Mz",
      "include_colab_link": true
    },
    "kernelspec": {
      "name": "python3",
      "display_name": "Python 3"
    },
    "language_info": {
      "name": "python"
    }
  },
  "cells": [
    {
      "cell_type": "markdown",
      "metadata": {
        "id": "view-in-github",
        "colab_type": "text"
      },
      "source": [
        "<a href=\"https://colab.research.google.com/github/trong-khanh-1109/CS114.L22.KHCL/blob/main/%08Colab_04.ipynb\" target=\"_parent\"><img src=\"https://colab.research.google.com/assets/colab-badge.svg\" alt=\"Open In Colab\"/></a>"
      ]
    },
    {
      "cell_type": "markdown",
      "metadata": {
        "id": "4TglcjJlv3mn"
      },
      "source": [
        "<h1 align=\"center\"><b>BÀI TẬP COLAB SỐ 04 - 07/06/2021</b></h1>\n",
        "<h1 align=\"center\"><b>SARCASM DETECTION IN NEWS HEADLINE</b></h1>\n",
        "\n",
        "###LỚP: CS114.L22.KHCL\n",
        "###NHÓM:\n",
        "1. Đỗ Trọng Khánh - *19521676*\n",
        "2. Võ Phạm Duy Đức - *19521383*\n",
        "3. Trịnh Công Danh - *19521326*"
      ]
    },
    {
      "cell_type": "markdown",
      "metadata": {
        "id": "l1oqeEUVw_GL"
      },
      "source": [
        "#Các trang đã thu thập dữ liệu"
      ]
    },
    {
      "cell_type": "markdown",
      "metadata": {
        "id": "W23o6iPOxKKD"
      },
      "source": [
        "- Trang châm biếm:\n",
        "  +  The Poke: https://www.thepoke.co.uk/\n",
        "  +  The Hard Times: https://thehardtimes.net/\n",
        "  +  The Civilian: http://www.thecivilian.co.nz/\n",
        "- Trang chính thống:\n",
        "  +  The New York Times: https://www.nytimes.com/\n",
        "  +  Fortune: https://fortune.com/\n",
        "  +  Huffpost: https://www.huffpost.com/\n",
        "  +  CityNew: https://toronto.citynews.ca/\n"
      ]
    },
    {
      "cell_type": "markdown",
      "metadata": {
        "id": "bH6M0YJRxQU_"
      },
      "source": [
        "# Báo cáo các kết quả thu thập được"
      ]
    },
    {
      "cell_type": "markdown",
      "metadata": {
        "id": "y1uE1zJxxYCO"
      },
      "source": [
        "- Đối với các trang báo chấm biếng: **3901KB data**\n",
        "- Đối với các trang báo chíng thống: **8182KB data**\n"
      ]
    },
    {
      "cell_type": "markdown",
      "metadata": {
        "id": "yiJV2LqOxvfa"
      },
      "source": [
        "- File code và csv: [code&csv](https://drive.google.com/file/d/1-Fc17ocRU0yFlxJrPIuaVWl_mPt-oZ39/view?usp=sharing)"
      ]
    }
  ]
}